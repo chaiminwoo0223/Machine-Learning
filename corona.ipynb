{
  "nbformat": 4,
  "nbformat_minor": 0,
  "metadata": {
    "colab": {
      "provenance": [],
      "authorship_tag": "ABX9TyPhnnKYxKH3lauV9SaECE4a",
      "include_colab_link": true
    },
    "kernelspec": {
      "name": "python3",
      "display_name": "Python 3"
    },
    "language_info": {
      "name": "python"
    },
    "accelerator": "GPU",
    "gpuClass": "standard"
  },
  "cells": [
    {
      "cell_type": "markdown",
      "metadata": {
        "id": "view-in-github",
        "colab_type": "text"
      },
      "source": [
        "<a href=\"https://colab.research.google.com/github/chaiminwoo0223/Machine-Learning/blob/main/corona.ipynb\" target=\"_parent\"><img src=\"https://colab.research.google.com/assets/colab-badge.svg\" alt=\"Open In Colab\"/></a>"
      ]
    },
    {
      "cell_type": "code",
      "source": [
        "# 전염병 예측 인공지능"
      ],
      "metadata": {
        "id": "5bKFSRIUrejc"
      },
      "execution_count": 1,
      "outputs": []
    },
    {
      "cell_type": "code",
      "execution_count": 2,
      "metadata": {
        "id": "TCHOqHXUfh1D"
      },
      "outputs": [],
      "source": [
        "from tensorflow.keras.models import Sequential\n",
        "from tensorflow.keras.layers import SimpleRNN, Dense\n",
        "from sklearn.preprocessing import MinMaxScaler\n",
        "from sklearn.metrics import mean_squared_error\n",
        "from sklearn.model_selection import train_test_split\n",
        "import math\n",
        "import numpy as np\n",
        "import matplotlib.pyplot as plt\n",
        "from pandas import read_csv"
      ]
    },
    {
      "cell_type": "code",
      "source": [
        "!git clone https://github.com/yhlee1627/deeplearning.git\n",
        "dataframe = read_csv('/content/deeplearning/corona_daily.csv', usecols=[3], engine='python', skipfooter=3)\n",
        "print(dataframe)\n",
        "dataset = dataframe.values\n",
        "dataset = dataset.astype('float32')"
      ],
      "metadata": {
        "colab": {
          "base_uri": "https://localhost:8080/"
        },
        "id": "EDxNJFuVgO3X",
        "outputId": "8192a335-a3b9-4ee0-f46f-3a4602971383"
      },
      "execution_count": 3,
      "outputs": [
        {
          "output_type": "stream",
          "name": "stdout",
          "text": [
            "fatal: destination path 'deeplearning' already exists and is not an empty directory.\n",
            "     Confirmed\n",
            "0           24\n",
            "1           24\n",
            "2           27\n",
            "3           27\n",
            "4           28\n",
            "..         ...\n",
            "107      11190\n",
            "108      11206\n",
            "109      11225\n",
            "110      11265\n",
            "111      11344\n",
            "\n",
            "[112 rows x 1 columns]\n"
          ]
        }
      ]
    },
    {
      "cell_type": "code",
      "source": [
        "scaler = MinMaxScaler(feature_range=(0, 1))\n",
        "Dataset = scaler.fit_transform(dataset)\n",
        "train_data, test_data = train_test_split(Dataset, test_size=0.2, shuffle=False)\n",
        "print(len(train_data), len(test_data))"
      ],
      "metadata": {
        "colab": {
          "base_uri": "https://localhost:8080/"
        },
        "id": "K8LPeoNZlhLt",
        "outputId": "dc81ce24-2861-4a16-8ead-88761d57e82b"
      },
      "execution_count": 4,
      "outputs": [
        {
          "output_type": "stream",
          "name": "stdout",
          "text": [
            "89 23\n"
          ]
        }
      ]
    },
    {
      "cell_type": "code",
      "source": [
        "def create_dataset(dataset, look_back):\n",
        "    x_data = []\n",
        "    y_data = []\n",
        "    for i in range(len(dataset)-look_back):\n",
        "        data = dataset[i:(i+look_back), 0]\n",
        "        x_data.append(data)\n",
        "        y_data.append(dataset[i + look_back, 0])\n",
        "    return np.array(x_data), np.array(y_data)"
      ],
      "metadata": {
        "id": "GgobC0QPmXgt"
      },
      "execution_count": 5,
      "outputs": []
    },
    {
      "cell_type": "code",
      "source": [
        "look_back = 3\n",
        "x_train, y_train = create_dataset(train_data, look_back)\n",
        "x_test, y_test = create_dataset(test_data, look_back)\n",
        "print(x_train.shape, y_train.shape)\n",
        "print(x_test.shape, y_test.shape)"
      ],
      "metadata": {
        "colab": {
          "base_uri": "https://localhost:8080/"
        },
        "id": "vNFaUY5fntis",
        "outputId": "cf314397-29ef-4af6-b964-df0db4c789c3"
      },
      "execution_count": 6,
      "outputs": [
        {
          "output_type": "stream",
          "name": "stdout",
          "text": [
            "(86, 3) (86,)\n",
            "(20, 3) (20,)\n"
          ]
        }
      ]
    },
    {
      "cell_type": "code",
      "source": [
        "X_train = np.reshape(x_train, (x_train.shape[0], 1, x_train.shape[1]))\n",
        "X_test = np.reshape(x_test, (x_test.shape[0], 1, x_test.shape[1]))\n",
        "print(X_train.shape, y_train.shape)\n",
        "print(X_test.shape, y_test.shape)"
      ],
      "metadata": {
        "colab": {
          "base_uri": "https://localhost:8080/"
        },
        "id": "Rw4CrBiwoklc",
        "outputId": "3541d5be-467c-40b8-8a38-e95980f88752"
      },
      "execution_count": 7,
      "outputs": [
        {
          "output_type": "stream",
          "name": "stdout",
          "text": [
            "(86, 1, 3) (86,)\n",
            "(20, 1, 3) (20,)\n"
          ]
        }
      ]
    },
    {
      "cell_type": "code",
      "source": [
        "model = Sequential()\n",
        "model.add(SimpleRNN(3, input_shape=(1, look_back)))\n",
        "model.add(Dense(1, activation='linear'))\n",
        "model.compile(loss='mse', optimizer='adam')\n",
        "model.summary()"
      ],
      "metadata": {
        "id": "iSm4z6V3q2FD",
        "colab": {
          "base_uri": "https://localhost:8080/"
        },
        "outputId": "75ba1143-dc69-423c-9c94-975411c13620"
      },
      "execution_count": 8,
      "outputs": [
        {
          "output_type": "stream",
          "name": "stdout",
          "text": [
            "Model: \"sequential\"\n",
            "_________________________________________________________________\n",
            " Layer (type)                Output Shape              Param #   \n",
            "=================================================================\n",
            " simple_rnn (SimpleRNN)      (None, 3)                 21        \n",
            "                                                                 \n",
            " dense (Dense)               (None, 1)                 4         \n",
            "                                                                 \n",
            "=================================================================\n",
            "Total params: 25\n",
            "Trainable params: 25\n",
            "Non-trainable params: 0\n",
            "_________________________________________________________________\n"
          ]
        }
      ]
    },
    {
      "cell_type": "code",
      "source": [
        "model.fit(X_train, y_train, epochs=100, batch_size=1, verbose=1)"
      ],
      "metadata": {
        "colab": {
          "base_uri": "https://localhost:8080/"
        },
        "id": "8a6dOARelv01",
        "outputId": "2ec1993e-0dc1-47cd-f726-0bcae8f88d54"
      },
      "execution_count": 9,
      "outputs": [
        {
          "output_type": "stream",
          "name": "stdout",
          "text": [
            "Epoch 1/100\n",
            "86/86 [==============================] - 1s 2ms/step - loss: 2.4825\n",
            "Epoch 2/100\n",
            "86/86 [==============================] - 0s 2ms/step - loss: 1.2201\n",
            "Epoch 3/100\n",
            "86/86 [==============================] - 0s 2ms/step - loss: 0.5164\n",
            "Epoch 4/100\n",
            "86/86 [==============================] - 0s 2ms/step - loss: 0.2323\n",
            "Epoch 5/100\n",
            "86/86 [==============================] - 0s 2ms/step - loss: 0.1411\n",
            "Epoch 6/100\n",
            "86/86 [==============================] - 0s 4ms/step - loss: 0.1096\n",
            "Epoch 7/100\n",
            "86/86 [==============================] - 0s 3ms/step - loss: 0.0923\n",
            "Epoch 8/100\n",
            "86/86 [==============================] - 0s 4ms/step - loss: 0.0786\n",
            "Epoch 9/100\n",
            "86/86 [==============================] - 0s 4ms/step - loss: 0.0661\n",
            "Epoch 10/100\n",
            "86/86 [==============================] - 0s 5ms/step - loss: 0.0547\n",
            "Epoch 11/100\n",
            "86/86 [==============================] - 0s 5ms/step - loss: 0.0448\n",
            "Epoch 12/100\n",
            "86/86 [==============================] - 0s 4ms/step - loss: 0.0361\n",
            "Epoch 13/100\n",
            "86/86 [==============================] - 0s 3ms/step - loss: 0.0289\n",
            "Epoch 14/100\n",
            "86/86 [==============================] - 0s 3ms/step - loss: 0.0226\n",
            "Epoch 15/100\n",
            "86/86 [==============================] - 0s 4ms/step - loss: 0.0175\n",
            "Epoch 16/100\n",
            "86/86 [==============================] - 0s 4ms/step - loss: 0.0133\n",
            "Epoch 17/100\n",
            "86/86 [==============================] - 0s 4ms/step - loss: 0.0100\n",
            "Epoch 18/100\n",
            "86/86 [==============================] - 0s 4ms/step - loss: 0.0074\n",
            "Epoch 19/100\n",
            "86/86 [==============================] - 0s 4ms/step - loss: 0.0054\n",
            "Epoch 20/100\n",
            "86/86 [==============================] - 0s 4ms/step - loss: 0.0039\n",
            "Epoch 21/100\n",
            "86/86 [==============================] - 0s 4ms/step - loss: 0.0029\n",
            "Epoch 22/100\n",
            "86/86 [==============================] - 0s 5ms/step - loss: 0.0021\n",
            "Epoch 23/100\n",
            "86/86 [==============================] - 0s 5ms/step - loss: 0.0016\n",
            "Epoch 24/100\n",
            "86/86 [==============================] - 0s 4ms/step - loss: 0.0013\n",
            "Epoch 25/100\n",
            "86/86 [==============================] - 0s 5ms/step - loss: 0.0010\n",
            "Epoch 26/100\n",
            "86/86 [==============================] - 0s 4ms/step - loss: 8.8570e-04\n",
            "Epoch 27/100\n",
            "86/86 [==============================] - 0s 4ms/step - loss: 7.9539e-04\n",
            "Epoch 28/100\n",
            "86/86 [==============================] - 0s 4ms/step - loss: 7.3182e-04\n",
            "Epoch 29/100\n",
            "86/86 [==============================] - 0s 4ms/step - loss: 7.0962e-04\n",
            "Epoch 30/100\n",
            "86/86 [==============================] - 0s 4ms/step - loss: 6.8464e-04\n",
            "Epoch 31/100\n",
            "86/86 [==============================] - 0s 5ms/step - loss: 6.7664e-04\n",
            "Epoch 32/100\n",
            "86/86 [==============================] - 0s 4ms/step - loss: 6.6753e-04\n",
            "Epoch 33/100\n",
            "86/86 [==============================] - 0s 5ms/step - loss: 6.6421e-04\n",
            "Epoch 34/100\n",
            "86/86 [==============================] - 0s 5ms/step - loss: 6.5637e-04\n",
            "Epoch 35/100\n",
            "86/86 [==============================] - 0s 4ms/step - loss: 6.6960e-04\n",
            "Epoch 36/100\n",
            "86/86 [==============================] - 0s 5ms/step - loss: 6.6468e-04\n",
            "Epoch 37/100\n",
            "86/86 [==============================] - 0s 5ms/step - loss: 6.5803e-04\n",
            "Epoch 38/100\n",
            "86/86 [==============================] - 0s 5ms/step - loss: 6.6678e-04\n",
            "Epoch 39/100\n",
            "86/86 [==============================] - 0s 4ms/step - loss: 6.5805e-04\n",
            "Epoch 40/100\n",
            "86/86 [==============================] - 0s 4ms/step - loss: 6.5113e-04\n",
            "Epoch 41/100\n",
            "86/86 [==============================] - 0s 5ms/step - loss: 6.4392e-04\n",
            "Epoch 42/100\n",
            "86/86 [==============================] - 0s 3ms/step - loss: 6.5398e-04\n",
            "Epoch 43/100\n",
            "86/86 [==============================] - 0s 3ms/step - loss: 6.5318e-04\n",
            "Epoch 44/100\n",
            "86/86 [==============================] - 0s 4ms/step - loss: 6.4403e-04\n",
            "Epoch 45/100\n",
            "86/86 [==============================] - 0s 4ms/step - loss: 6.5149e-04\n",
            "Epoch 46/100\n",
            "86/86 [==============================] - 0s 4ms/step - loss: 6.4494e-04\n",
            "Epoch 47/100\n",
            "86/86 [==============================] - 0s 4ms/step - loss: 6.5794e-04\n",
            "Epoch 48/100\n",
            "86/86 [==============================] - 0s 2ms/step - loss: 6.5863e-04\n",
            "Epoch 49/100\n",
            "86/86 [==============================] - 0s 2ms/step - loss: 6.3433e-04\n",
            "Epoch 50/100\n",
            "86/86 [==============================] - 0s 2ms/step - loss: 6.4381e-04\n",
            "Epoch 51/100\n",
            "86/86 [==============================] - 0s 2ms/step - loss: 6.3762e-04\n",
            "Epoch 52/100\n",
            "86/86 [==============================] - 0s 2ms/step - loss: 6.2141e-04\n",
            "Epoch 53/100\n",
            "86/86 [==============================] - 0s 2ms/step - loss: 6.7345e-04\n",
            "Epoch 54/100\n",
            "86/86 [==============================] - 0s 2ms/step - loss: 6.2711e-04\n",
            "Epoch 55/100\n",
            "86/86 [==============================] - 0s 2ms/step - loss: 6.2935e-04\n",
            "Epoch 56/100\n",
            "86/86 [==============================] - 0s 3ms/step - loss: 6.4276e-04\n",
            "Epoch 57/100\n",
            "86/86 [==============================] - 0s 4ms/step - loss: 6.1884e-04\n",
            "Epoch 58/100\n",
            "86/86 [==============================] - 0s 4ms/step - loss: 6.2490e-04\n",
            "Epoch 59/100\n",
            "86/86 [==============================] - 0s 5ms/step - loss: 6.1883e-04\n",
            "Epoch 60/100\n",
            "86/86 [==============================] - 0s 4ms/step - loss: 6.0320e-04\n",
            "Epoch 61/100\n",
            "86/86 [==============================] - 0s 4ms/step - loss: 6.2483e-04\n",
            "Epoch 62/100\n",
            "86/86 [==============================] - 0s 4ms/step - loss: 6.1112e-04\n",
            "Epoch 63/100\n",
            "86/86 [==============================] - 0s 4ms/step - loss: 5.8827e-04\n",
            "Epoch 64/100\n",
            "86/86 [==============================] - 0s 4ms/step - loss: 6.3769e-04\n",
            "Epoch 65/100\n",
            "86/86 [==============================] - 0s 3ms/step - loss: 5.9818e-04\n",
            "Epoch 66/100\n",
            "86/86 [==============================] - 0s 4ms/step - loss: 6.0379e-04\n",
            "Epoch 67/100\n",
            "86/86 [==============================] - 0s 5ms/step - loss: 5.8723e-04\n",
            "Epoch 68/100\n",
            "86/86 [==============================] - 0s 5ms/step - loss: 6.1522e-04\n",
            "Epoch 69/100\n",
            "86/86 [==============================] - 0s 5ms/step - loss: 6.5323e-04\n",
            "Epoch 70/100\n",
            "86/86 [==============================] - 0s 4ms/step - loss: 6.1976e-04\n",
            "Epoch 71/100\n",
            "86/86 [==============================] - 0s 5ms/step - loss: 6.0072e-04\n",
            "Epoch 72/100\n",
            "86/86 [==============================] - 0s 5ms/step - loss: 5.8060e-04\n",
            "Epoch 73/100\n",
            "86/86 [==============================] - 0s 4ms/step - loss: 5.7633e-04\n",
            "Epoch 74/100\n",
            "86/86 [==============================] - 0s 4ms/step - loss: 5.9698e-04\n",
            "Epoch 75/100\n",
            "86/86 [==============================] - 0s 5ms/step - loss: 5.9091e-04\n",
            "Epoch 76/100\n",
            "86/86 [==============================] - 0s 5ms/step - loss: 5.9451e-04\n",
            "Epoch 77/100\n",
            "86/86 [==============================] - 0s 2ms/step - loss: 5.9068e-04\n",
            "Epoch 78/100\n",
            "86/86 [==============================] - 0s 2ms/step - loss: 5.9516e-04\n",
            "Epoch 79/100\n",
            "86/86 [==============================] - 0s 2ms/step - loss: 5.9701e-04\n",
            "Epoch 80/100\n",
            "86/86 [==============================] - 0s 2ms/step - loss: 5.6465e-04\n",
            "Epoch 81/100\n",
            "86/86 [==============================] - 0s 2ms/step - loss: 5.3380e-04\n",
            "Epoch 82/100\n",
            "86/86 [==============================] - 0s 2ms/step - loss: 5.4486e-04\n",
            "Epoch 83/100\n",
            "86/86 [==============================] - 0s 2ms/step - loss: 5.8760e-04\n",
            "Epoch 84/100\n",
            "86/86 [==============================] - 0s 2ms/step - loss: 5.7097e-04\n",
            "Epoch 85/100\n",
            "86/86 [==============================] - 0s 2ms/step - loss: 5.5998e-04\n",
            "Epoch 86/100\n",
            "86/86 [==============================] - 0s 2ms/step - loss: 5.2637e-04\n",
            "Epoch 87/100\n",
            "86/86 [==============================] - 0s 2ms/step - loss: 5.5730e-04\n",
            "Epoch 88/100\n",
            "86/86 [==============================] - 0s 2ms/step - loss: 5.3694e-04\n",
            "Epoch 89/100\n",
            "86/86 [==============================] - 0s 2ms/step - loss: 5.2569e-04\n",
            "Epoch 90/100\n",
            "86/86 [==============================] - 0s 2ms/step - loss: 5.0617e-04\n",
            "Epoch 91/100\n",
            "86/86 [==============================] - 0s 2ms/step - loss: 5.4153e-04\n",
            "Epoch 92/100\n",
            "86/86 [==============================] - 0s 2ms/step - loss: 5.1556e-04\n",
            "Epoch 93/100\n",
            "86/86 [==============================] - 0s 2ms/step - loss: 5.2122e-04\n",
            "Epoch 94/100\n",
            "86/86 [==============================] - 0s 2ms/step - loss: 4.9897e-04\n",
            "Epoch 95/100\n",
            "86/86 [==============================] - 0s 2ms/step - loss: 5.3615e-04\n",
            "Epoch 96/100\n",
            "86/86 [==============================] - 0s 2ms/step - loss: 5.0909e-04\n",
            "Epoch 97/100\n",
            "86/86 [==============================] - 0s 2ms/step - loss: 4.8603e-04\n",
            "Epoch 98/100\n",
            "86/86 [==============================] - 0s 2ms/step - loss: 5.3715e-04\n",
            "Epoch 99/100\n",
            "86/86 [==============================] - 0s 2ms/step - loss: 5.4783e-04\n",
            "Epoch 100/100\n",
            "86/86 [==============================] - 0s 2ms/step - loss: 5.0624e-04\n"
          ]
        },
        {
          "output_type": "execute_result",
          "data": {
            "text/plain": [
              "<keras.callbacks.History at 0x7f1ce0392e50>"
            ]
          },
          "metadata": {},
          "execution_count": 9
        }
      ]
    },
    {
      "cell_type": "code",
      "source": [
        "trainPredict = model.predict(X_train)\n",
        "trainPredict[:10]"
      ],
      "metadata": {
        "colab": {
          "base_uri": "https://localhost:8080/"
        },
        "id": "B5VlTejuoF9L",
        "outputId": "c4823881-d59a-47ae-fd8e-dedf8e32d770"
      },
      "execution_count": 10,
      "outputs": [
        {
          "output_type": "stream",
          "name": "stdout",
          "text": [
            "3/3 [==============================] - 0s 3ms/step\n"
          ]
        },
        {
          "output_type": "execute_result",
          "data": {
            "text/plain": [
              "array([[0.0223856 ],\n",
              "       [0.02250815],\n",
              "       [0.0226225 ],\n",
              "       [0.02266334],\n",
              "       [0.02269082],\n",
              "       [0.02269082],\n",
              "       [0.02269082],\n",
              "       [0.02272273],\n",
              "       [0.02279548],\n",
              "       [0.02289571]], dtype=float32)"
            ]
          },
          "metadata": {},
          "execution_count": 10
        }
      ]
    },
    {
      "cell_type": "code",
      "source": [
        "TrainPredict = scaler.inverse_transform(trainPredict)\n",
        "TrainPredict[:10]"
      ],
      "metadata": {
        "colab": {
          "base_uri": "https://localhost:8080/"
        },
        "id": "XHG7i6cJoj3d",
        "outputId": "738df117-84f4-456c-b85e-83080999f75f"
      },
      "execution_count": 11,
      "outputs": [
        {
          "output_type": "execute_result",
          "data": {
            "text/plain": [
              "array([[277.40503],\n",
              "       [278.79224],\n",
              "       [280.08667],\n",
              "       [280.54904],\n",
              "       [280.8601 ],\n",
              "       [280.8601 ],\n",
              "       [280.8601 ],\n",
              "       [281.22128],\n",
              "       [282.0448 ],\n",
              "       [283.1794 ]], dtype=float32)"
            ]
          },
          "metadata": {},
          "execution_count": 11
        }
      ]
    },
    {
      "cell_type": "code",
      "source": [
        "Y_train = scaler.inverse_transform([y_train])\n",
        "Y_train[:10]"
      ],
      "metadata": {
        "colab": {
          "base_uri": "https://localhost:8080/"
        },
        "id": "_76MrB_DpFV0",
        "outputId": "27cd76db-19e5-494a-bac1-d056b503adc1"
      },
      "execution_count": 12,
      "outputs": [
        {
          "output_type": "execute_result",
          "data": {
            "text/plain": [
              "array([[   27.00000082,    28.00000066,    28.00000066,    28.00000066,\n",
              "           28.00000066,    28.00000066,    29.00000049,    30.00000033,\n",
              "           31.00000016,    51.00000214,   104.00000395,   204.00001384,\n",
              "          433.00000247,   602.00000099,   832.99993658,   976.9999972 ,\n",
              "         1260.99992933,  1766.00008335,  2337.00011053,  3150.00006622,\n",
              "         3736.00006457,  4212.00004942,  4811.99990841,  5327.99992884,\n",
              "         5766.00009917,  6284.00034066,  6766.99991846,  7134.00016901,\n",
              "         7381.99991731,  7512.99972177,  7754.99981896,  7868.99993724,\n",
              "         7979.00028811,  8086.0001387 ,  8161.99976773,  8236.00018779,\n",
              "         8320.00002636,  8413.00001631,  8564.9999491 ,  8652.00028794,\n",
              "         8798.99983675,  8897.00021069,  8960.99986278,  9037.00016654,\n",
              "         9136.99974945,  9240.99977449,  9331.99988074,  9478.00016242,\n",
              "         9583.00012931,  9661.00031677,  9785.99979541,  9886.99999489,\n",
              "         9976.00021744, 10061.99993971, 10155.99987151, 10236.99988453,\n",
              "        10283.99985043, 10330.99981633, 10384.00010806, 10422.99986443,\n",
              "        10450.00031858, 10479.99992357, 10512.00008698, 10536.9999827 ,\n",
              "        10563.99976213, 10591.00021629, 10613.00028646, 10635.00035664,\n",
              "        10652.99998468, 10661.00019421, 10674.000113  , 10683.00026439,\n",
              "        10694.00029947, 10701.99983428, 10708.00016012, 10718.00025335,\n",
              "        10728.00034659, 10737.9997651 , 10752.00030046, 10760.99977712,\n",
              "        10765.00021925, 10774.00037064, 10780.00002174, 10792.99994053,\n",
              "        10801.00015007, 10803.99997562]])"
            ]
          },
          "metadata": {},
          "execution_count": 12
        }
      ]
    },
    {
      "cell_type": "code",
      "source": [
        "trainPredict = model.predict(X_train)\n",
        "TrainPredict = scaler.inverse_transform(trainPredict)\n",
        "Y_train = scaler.inverse_transform([y_train])\n",
        "testPredict = model.predict(X_test)\n",
        "TestPredict = scaler.inverse_transform(testPredict)\n",
        "Y_test = scaler.inverse_transform([y_test])"
      ],
      "metadata": {
        "colab": {
          "base_uri": "https://localhost:8080/"
        },
        "id": "STq1-571mEBL",
        "outputId": "9cdc7553-796d-4a75-ae9e-f5ba027c367b"
      },
      "execution_count": 13,
      "outputs": [
        {
          "output_type": "stream",
          "name": "stdout",
          "text": [
            "3/3 [==============================] - 0s 3ms/step\n",
            "1/1 [==============================] - 0s 14ms/step\n"
          ]
        }
      ]
    },
    {
      "cell_type": "code",
      "source": [
        "trainScore = math.sqrt(mean_squared_error(Y_train[0], TrainPredict[:,0]))\n",
        "print(trainScore)\n",
        "testScore = math.sqrt(mean_squared_error(Y_test[0], TestPredict[:,0]))\n",
        "print(testScore)"
      ],
      "metadata": {
        "colab": {
          "base_uri": "https://localhost:8080/"
        },
        "id": "fV3vqRJPnI80",
        "outputId": "148b1117-6965-47b1-e667-1614a70b6cc1"
      },
      "execution_count": 14,
      "outputs": [
        {
          "output_type": "stream",
          "name": "stdout",
          "text": [
            "237.69622918295465\n",
            "198.6225441267095\n"
          ]
        }
      ]
    },
    {
      "cell_type": "code",
      "source": [
        "trainPredictPlot = np.empty_like(dataset)\n",
        "trainPredictPlot[:,:] = np.nan\n",
        "trainPredictPlot[look_back:len(TrainPredict)+look_back, :] = TrainPredict\n",
        "testPredictPlot = np.empty_like(dataset)\n",
        "testPredictPlot[:,:] = np.nan\n",
        "testPredictPlot[len(TrainPredict)+look_back*2:len(dataset), :] = TestPredict\n",
        "plt.plot(dataset)\n",
        "plt.plot(trainPredictPlot)\n",
        "plt.plot(testPredictPlot)\n",
        "plt.xlabel('day')\n",
        "plt.ylabel('count')\n",
        "plt.title('COVID 19')\n",
        "plt.show()"
      ],
      "metadata": {
        "colab": {
          "base_uri": "https://localhost:8080/",
          "height": 295
        },
        "id": "EigCX3vapipx",
        "outputId": "b0dd5155-0189-4d28-9517-9b25623f631f"
      },
      "execution_count": 15,
      "outputs": [
        {
          "output_type": "display_data",
          "data": {
            "text/plain": [
              "<Figure size 432x288 with 1 Axes>"
            ],
            "image/png": "[encoded data removed]"
          },
          "metadata": {
            "needs_background": "light"
          }
        }
      ]
    },
    {
      "cell_type": "code",
      "source": [],
      "metadata": {
        "id": "43qUY8_Es5jx"
      },
      "execution_count": 15,
      "outputs": []
    }
  ]
}