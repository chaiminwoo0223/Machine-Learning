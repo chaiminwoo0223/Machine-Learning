{
  "nbformat": 4,
  "nbformat_minor": 0,
  "metadata": {
    "colab": {
      "provenance": [],
      "authorship_tag": "ABX9TyP3zQFIOKg01Iak84+Xhrgy",
      "include_colab_link": true
    },
    "kernelspec": {
      "name": "python3",
      "display_name": "Python 3"
    },
    "language_info": {
      "name": "python"
    }
  },
  "cells": [
    {
      "cell_type": "markdown",
      "metadata": {
        "id": "view-in-github",
        "colab_type": "text"
      },
      "source": [
        "<a href=\"https://colab.research.google.com/github/chaiminwoo0223/Machine-Learning/blob/main/05_LinearRegression.ipynb\" target=\"_parent\"><img src=\"https://colab.research.google.com/assets/colab-badge.svg\" alt=\"Open In Colab\"/></a>"
      ]
    },
    {
      "cell_type": "code",
      "execution_count": 1,
      "metadata": {
        "id": "E-GRfMr8cStp"
      },
      "outputs": [],
      "source": [
        "import numpy as np"
      ]
    },
    {
      "cell_type": "code",
      "source": [
        "# 농어의 길이와 무게\n",
        "perch_length = np.array([8.4, 13.7, 15.0, 16.2, 17.4, 18.0, 18.7, 19.0, 19.6, 20.0, 21.0,\n",
        "       21.0, 21.0, 21.3, 22.0, 22.0, 22.0, 22.0, 22.0, 22.5, 22.5, 22.7,\n",
        "       23.0, 23.5, 24.0, 24.0, 24.6, 25.0, 25.6, 26.5, 27.3, 27.5, 27.5,\n",
        "       27.5, 28.0, 28.7, 30.0, 32.8, 34.5, 35.0, 36.5, 36.0, 37.0, 37.0,\n",
        "       39.0, 39.0, 39.0, 40.0, 40.0, 40.0, 40.0, 42.0, 43.0, 43.0, 43.5,\n",
        "       44.0])\n",
        "perch_weight = np.array([5.9, 32.0, 40.0, 51.5, 70.0, 100.0, 78.0, 80.0, 85.0, 85.0, 110.0,\n",
        "       115.0, 125.0, 130.0, 120.0, 120.0, 130.0, 135.0, 110.0, 130.0,\n",
        "       150.0, 145.0, 150.0, 170.0, 225.0, 145.0, 188.0, 180.0, 197.0,\n",
        "       218.0, 300.0, 260.0, 265.0, 250.0, 250.0, 300.0, 320.0, 514.0,\n",
        "       556.0, 840.0, 685.0, 700.0, 700.0, 690.0, 900.0, 650.0, 820.0,\n",
        "       850.0, 900.0, 1015.0, 820.0, 1100.0, 1000.0, 1100.0, 1000.0,\n",
        "       1000.0])"
      ],
      "metadata": {
        "id": "2eJt8yjGeMfU"
      },
      "execution_count": 2,
      "outputs": []
    },
    {
      "cell_type": "code",
      "source": [
        "from sklearn.model_selection import train_test_split                  # 훈련 세트와 테스트 세트 분할(3:1)\n",
        "train_input, test_input, train_target, test_target = train_test_split(\n",
        "    perch_length, perch_weight, random_state = 42)"
      ],
      "metadata": {
        "id": "d3sscKGjeQlr"
      },
      "execution_count": 3,
      "outputs": []
    },
    {
      "cell_type": "code",
      "source": [
        "print(train_input) # 농어의 길이"
      ],
      "metadata": {
        "colab": {
          "base_uri": "https://localhost:8080/"
        },
        "id": "ROj8v8toyAQV",
        "outputId": "ed2616a8-1ad4-4fc6-c43a-a4ace0893a7f"
      },
      "execution_count": 4,
      "outputs": [
        {
          "output_type": "stream",
          "name": "stdout",
          "text": [
            "[19.6 22.  18.7 17.4 36.  25.  40.  39.  43.  22.  20.  22.  24.  27.5\n",
            " 43.  40.  24.  21.  27.5 40.  32.8 26.5 36.5 13.7 22.7 15.  37.  35.\n",
            " 28.7 23.5 39.  21.  23.  22.  44.  22.5 19.  37.  22.  25.6 42.  34.5]\n"
          ]
        }
      ]
    },
    {
      "cell_type": "code",
      "source": [
        "print(train_target) # 농어의 무게"
      ],
      "metadata": {
        "colab": {
          "base_uri": "https://localhost:8080/"
        },
        "id": "DKjuBRTFyQYb",
        "outputId": "10372ce6-6028-4e33-dc5f-b3d554909a54"
      },
      "execution_count": 5,
      "outputs": [
        {
          "output_type": "stream",
          "name": "stdout",
          "text": [
            "[  85.  135.   78.   70.  700.  180.  850.  820. 1000.  120.   85.  130.\n",
            "  225.  260. 1100.  900.  145.  115.  265. 1015.  514.  218.  685.   32.\n",
            "  145.   40.  690.  840.  300.  170.  650.  110.  150.  110. 1000.  150.\n",
            "   80.  700.  120.  197. 1100.  556.]\n"
          ]
        }
      ]
    },
    {
      "cell_type": "code",
      "source": [
        "# 샘플 데이터를 2차원 배열로 변환\n",
        "train_input = train_input.reshape(-1,1)\n",
        "test_input = test_input.reshape(-1,1)"
      ],
      "metadata": {
        "id": "6iaaWh0UeXRL"
      },
      "execution_count": 6,
      "outputs": []
    },
    {
      "cell_type": "code",
      "source": [
        "from sklearn.neighbors import KNeighborsRegressor # k - 최근접 이웃 회귀 알고리즘\n",
        "knr = KNeighborsRegressor(n_neighbors=3)\n",
        "knr.fit(train_input,train_target) # 훈련"
      ],
      "metadata": {
        "colab": {
          "base_uri": "https://localhost:8080/"
        },
        "id": "tf_1eF0peeQz",
        "outputId": "93064893-4091-40e9-ad73-1faf181a0841"
      },
      "execution_count": 7,
      "outputs": [
        {
          "output_type": "execute_result",
          "data": {
            "text/plain": [
              "KNeighborsRegressor(n_neighbors=3)"
            ]
          },
          "metadata": {},
          "execution_count": 7
        }
      ]
    },
    {
      "cell_type": "code",
      "source": [
        "print(knr.predict([[50]])) # 50cm 농어의 무게 예측"
      ],
      "metadata": {
        "colab": {
          "base_uri": "https://localhost:8080/"
        },
        "id": "TT-R7D6oel1K",
        "outputId": "513bf947-2e00-41a2-e5f5-dc481189ddd3"
      },
      "execution_count": 8,
      "outputs": [
        {
          "output_type": "stream",
          "name": "stdout",
          "text": [
            "[1033.33333333]\n"
          ]
        }
      ]
    },
    {
      "cell_type": "code",
      "source": [
        "import matplotlib.pyplot as plt\n",
        "distances, indexes = knr.kneighbors([[50]]) # 50cm 농어의 이웃 (거리,인덱스)\n",
        "plt.scatter(train_input,train_target)\n",
        "plt.scatter(train_input[indexes],train_target[indexes],marker='D') # 이웃 표시\n",
        "plt.scatter(50,1033,marker='^') # 50cm 농어의 데이터\n",
        "plt.xlabel('length')\n",
        "plt.ylabel('weight')\n",
        "plt.show()"
      ],
      "metadata": {
        "colab": {
          "base_uri": "https://localhost:8080/",
          "height": 279
        },
        "id": "QvpaXJsuewhr",
        "outputId": "f674f652-0659-47d6-cb19-1be55b5f9b73"
      },
      "execution_count": 9,
      "outputs": [
        {
          "output_type": "display_data",
          "data": {
            "text/plain": [
              "<Figure size 432x288 with 1 Axes>"
            ],
            "image/png": "[encoded data removed]"
          },
          "metadata": {
            "needs_background": "light"
          }
        }
      ]
    },
    {
      "cell_type": "code",
      "source": [
        "train_target[indexes] # 50cm 농어의 이웃 무게"
      ],
      "metadata": {
        "colab": {
          "base_uri": "https://localhost:8080/"
        },
        "id": "w4UTQfNxgv9N",
        "outputId": "9d535b8a-761c-4368-aec1-f90828aef04d"
      },
      "execution_count": 10,
      "outputs": [
        {
          "output_type": "execute_result",
          "data": {
            "text/plain": [
              "array([[1000., 1000., 1100.]])"
            ]
          },
          "metadata": {},
          "execution_count": 10
        }
      ]
    },
    {
      "cell_type": "code",
      "source": [
        "print(np.mean(train_target[indexes])) # 50cm 농어의 이웃 무게 평균"
      ],
      "metadata": {
        "colab": {
          "base_uri": "https://localhost:8080/"
        },
        "id": "DCx8lKy1gacN",
        "outputId": "535e63d3-4549-4d2d-9414-03b6b456faa4"
      },
      "execution_count": 11,
      "outputs": [
        {
          "output_type": "stream",
          "name": "stdout",
          "text": [
            "1033.3333333333333\n"
          ]
        }
      ]
    },
    {
      "cell_type": "code",
      "source": [
        "distances, indexes = knr.kneighbors([[100]]) # 100cm 농어의 이웃 (거리,인덱스)\n",
        "plt.scatter(train_input,train_target)\n",
        "plt.scatter(train_input[indexes],train_target[indexes],marker='D') # 이웃 표시\n",
        "plt.scatter(100,1033,marker='^') # 100cm 농어의 데이터\n",
        "plt.xlabel('length')\n",
        "plt.ylabel('weight')\n",
        "plt.show()"
      ],
      "metadata": {
        "colab": {
          "base_uri": "https://localhost:8080/",
          "height": 279
        },
        "id": "MCJvUXQ2ggmq",
        "outputId": "eb404e1c-dfce-47f2-9499-3faa6303b6e7"
      },
      "execution_count": 12,
      "outputs": [
        {
          "output_type": "display_data",
          "data": {
            "text/plain": [
              "<Figure size 432x288 with 1 Axes>"
            ],
            "image/png": "[encoded data removed]"
          },
          "metadata": {
            "needs_background": "light"
          }
        }
      ]
    },
    {
      "cell_type": "code",
      "source": [
        "from sklearn.linear_model import LinearRegression # 선형 회귀 모델\n",
        "lr = LinearRegression()\n",
        "lr.fit(train_input,train_target) # 훈련\n",
        "print(lr.predict([[50]])) # 50cm 농어의 무게 예측\n",
        "print(lr.predict([[100]])) # 100cm 농어의 무게 예측"
      ],
      "metadata": {
        "colab": {
          "base_uri": "https://localhost:8080/"
        },
        "id": "CZ0KjZT4grYK",
        "outputId": "99c71388-42a3-429b-aadf-0c74669362ff"
      },
      "execution_count": 13,
      "outputs": [
        {
          "output_type": "stream",
          "name": "stdout",
          "text": [
            "[1241.83860323]\n",
            "[3192.69585141]\n"
          ]
        }
      ]
    },
    {
      "cell_type": "code",
      "source": [
        "print(lr.score(test_input,test_target)) # 테스트"
      ],
      "metadata": {
        "colab": {
          "base_uri": "https://localhost:8080/"
        },
        "id": "KAbSoXpXh3uJ",
        "outputId": "6bdeb9c4-e5b9-4e05-c069-de927bea3f55"
      },
      "execution_count": 14,
      "outputs": [
        {
          "output_type": "stream",
          "name": "stdout",
          "text": [
            "0.8247503123313558\n"
          ]
        }
      ]
    },
    {
      "cell_type": "code",
      "source": [
        "print(lr.coef_,lr.intercept_) # coef_: 기울기(a), intercept_: 절편(b), y = ax + b"
      ],
      "metadata": {
        "colab": {
          "base_uri": "https://localhost:8080/"
        },
        "id": "mKwFxZwRiB-_",
        "outputId": "831c25c3-8bb2-4a13-8b9d-36d734b68fba"
      },
      "execution_count": 15,
      "outputs": [
        {
          "output_type": "stream",
          "name": "stdout",
          "text": [
            "[39.01714496] -709.0186449535477\n"
          ]
        }
      ]
    },
    {
      "cell_type": "code",
      "source": [
        "plt.scatter(train_input,train_target) # 훈련 세트의 산점도\n",
        "plt.plot([15,50],[15*lr.coef_ + lr.intercept_,50*lr.coef_ + lr.intercept_]) # 15에서 50까지 그래프 그리기, y = ax + b\n",
        "plt.scatter(train_input[indexes],train_target[indexes],marker='D')\n",
        "plt.scatter(50,1241.8,marker='^')\n",
        "plt.xlabel('length')\n",
        "plt.ylabel('weight')\n",
        "plt.show()"
      ],
      "metadata": {
        "colab": {
          "base_uri": "https://localhost:8080/",
          "height": 279
        },
        "id": "zjp6ogYoidiq",
        "outputId": "0933db84-aa23-4509-8365-421525549dab"
      },
      "execution_count": 16,
      "outputs": [
        {
          "output_type": "display_data",
          "data": {
            "text/plain": [
              "<Figure size 432x288 with 1 Axes>"
            ],
            "image/png": "[encoded data removed]"
          },
          "metadata": {
            "needs_background": "light"
          }
        }
      ]
    },
    {
      "cell_type": "code",
      "source": [
        "plt.scatter(train_input,train_target) # 훈련 세트의 산점도\n",
        "plt.scatter(test_input,test_target) # 테스트 세트의 산점도\n",
        "plt.plot([15,50],[15*lr.coef_ + lr.intercept_,50*lr.coef_ + lr.intercept_]) # 15에서 50까지 그래프 그리기, y = ax + b\n",
        "plt.scatter(train_input[indexes],train_target[indexes],marker='D')\n",
        "plt.scatter(50,1241.8,marker='^')\n",
        "plt.xlabel('length')\n",
        "plt.ylabel('weight')\n",
        "plt.show()"
      ],
      "metadata": {
        "colab": {
          "base_uri": "https://localhost:8080/",
          "height": 279
        },
        "id": "R6A0PdVs0twT",
        "outputId": "cfed82ab-65f5-4fff-efba-478742062ed0"
      },
      "execution_count": 17,
      "outputs": [
        {
          "output_type": "display_data",
          "data": {
            "text/plain": [
              "<Figure size 432x288 with 1 Axes>"
            ],
            "image/png": "[encoded data removed]"
          },
          "metadata": {
            "needs_background": "light"
          }
        }
      ]
    },
    {
      "cell_type": "code",
      "source": [
        "print(lr.score(train_input,train_target)) # 훈련 세트 평가\n",
        "print(lr.score(test_input,test_target)) # 테스트 세트 평가"
      ],
      "metadata": {
        "colab": {
          "base_uri": "https://localhost:8080/"
        },
        "id": "KsPJFw5QjT1s",
        "outputId": "8f5197de-d799-4356-80cb-a4ab9f36a08d"
      },
      "execution_count": 18,
      "outputs": [
        {
          "output_type": "stream",
          "name": "stdout",
          "text": [
            "0.939846333997604\n",
            "0.8247503123313558\n"
          ]
        }
      ]
    },
    {
      "cell_type": "code",
      "source": [
        "# 이차식의 구현\n",
        "train_poly = np.column_stack((train_input**2,train_input))\n",
        "test_poly = np.column_stack((test_input**2,test_input))"
      ],
      "metadata": {
        "id": "UiVk8X6zj_B8"
      },
      "execution_count": 19,
      "outputs": []
    },
    {
      "cell_type": "code",
      "source": [
        "print(train_poly.shape,test_poly.shape)"
      ],
      "metadata": {
        "colab": {
          "base_uri": "https://localhost:8080/"
        },
        "id": "6Y6OAdoplbXb",
        "outputId": "fae53e39-5cb6-4a2d-ec6a-3dc25849362b"
      },
      "execution_count": 20,
      "outputs": [
        {
          "output_type": "stream",
          "name": "stdout",
          "text": [
            "(42, 2) (14, 2)\n"
          ]
        }
      ]
    },
    {
      "cell_type": "code",
      "source": [
        "print(train_poly[:5])\n",
        "print(test_poly[:5])"
      ],
      "metadata": {
        "colab": {
          "base_uri": "https://localhost:8080/"
        },
        "id": "rF_8aI7Lm0Vx",
        "outputId": "c0e412f7-cda3-4f3d-ecd9-73a951db18cf"
      },
      "execution_count": 21,
      "outputs": [
        {
          "output_type": "stream",
          "name": "stdout",
          "text": [
            "[[ 384.16   19.6 ]\n",
            " [ 484.     22.  ]\n",
            " [ 349.69   18.7 ]\n",
            " [ 302.76   17.4 ]\n",
            " [1296.     36.  ]]\n",
            "[[ 70.56   8.4 ]\n",
            " [324.    18.  ]\n",
            " [756.25  27.5 ]\n",
            " [453.69  21.3 ]\n",
            " [506.25  22.5 ]]\n"
          ]
        }
      ]
    },
    {
      "cell_type": "code",
      "source": [
        "lr = LinearRegression()\n",
        "lr.fit(train_poly,train_target)\n",
        "print(lr.predict([[50**2,50]]))"
      ],
      "metadata": {
        "colab": {
          "base_uri": "https://localhost:8080/"
        },
        "id": "qLytWFAJlzar",
        "outputId": "335a69be-033f-4a45-f258-504c98119213"
      },
      "execution_count": 22,
      "outputs": [
        {
          "output_type": "stream",
          "name": "stdout",
          "text": [
            "[1573.98423528]\n"
          ]
        }
      ]
    },
    {
      "cell_type": "code",
      "source": [
        "print(lr.coef_,lr.intercept_)"
      ],
      "metadata": {
        "colab": {
          "base_uri": "https://localhost:8080/"
        },
        "id": "rwUn4jWhmh8r",
        "outputId": "7e61d807-cd5e-42cb-8a68-1d21402280fd"
      },
      "execution_count": 23,
      "outputs": [
        {
          "output_type": "stream",
          "name": "stdout",
          "text": [
            "[  1.01433211 -21.55792498] 116.0502107827827\n"
          ]
        }
      ]
    },
    {
      "cell_type": "code",
      "source": [
        "x = np.arange(15,50) # x의 범위\n",
        "y = 1.01*x**2 - 21.6*x + 116.05 # y = ax^2 + bx + c\n",
        "plt.scatter(train_input,train_target)\n",
        "plt.plot(x,y) # 그래프 그리기\n",
        "plt.scatter(50,1574,marker= '^')\n",
        "plt.xlabel('length')\n",
        "plt.ylabel('weight')\n",
        "plt.show()"
      ],
      "metadata": {
        "colab": {
          "base_uri": "https://localhost:8080/",
          "height": 279
        },
        "id": "1SQThOqbmvmY",
        "outputId": "bcb6142e-3412-4044-883f-caf41514fc03"
      },
      "execution_count": 24,
      "outputs": [
        {
          "output_type": "display_data",
          "data": {
            "text/plain": [
              "<Figure size 432x288 with 1 Axes>"
            ],
            "image/png": "[encoded data removed]"
          },
          "metadata": {
            "needs_background": "light"
          }
        }
      ]
    },
    {
      "cell_type": "code",
      "source": [
        "x = np.arange(15,50) # x의 범위\n",
        "y = 1.01*x**2 - 21.6*x + 116.05 # y = ax^2 + bx + c\n",
        "plt.scatter(train_input,train_target)\n",
        "plt.scatter(test_input,test_target)\n",
        "plt.plot(x,y) # 그래프 그리기 \n",
        "plt.scatter(50,1574,marker= '^')\n",
        "plt.xlabel('length')\n",
        "plt.ylabel('weight')\n",
        "plt.show()"
      ],
      "metadata": {
        "colab": {
          "base_uri": "https://localhost:8080/",
          "height": 279
        },
        "id": "rKI-z2dw6-Zi",
        "outputId": "481ccb03-a18e-4910-c99e-0c48e4b65e30"
      },
      "execution_count": 25,
      "outputs": [
        {
          "output_type": "display_data",
          "data": {
            "text/plain": [
              "<Figure size 432x288 with 1 Axes>"
            ],
            "image/png": "[encoded data removed]"
          },
          "metadata": {
            "needs_background": "light"
          }
        }
      ]
    },
    {
      "cell_type": "code",
      "source": [
        "print(lr.score(train_poly,train_target)) # 훈련 세트 평가\n",
        "print(lr.score(test_poly,test_target)) # 테스트 세트 평가"
      ],
      "metadata": {
        "colab": {
          "base_uri": "https://localhost:8080/"
        },
        "id": "eJ9mixIrnYkt",
        "outputId": "7fe0440a-9d6b-488d-90ba-b0a1ad23920f"
      },
      "execution_count": 26,
      "outputs": [
        {
          "output_type": "stream",
          "name": "stdout",
          "text": [
            "0.9706807451768623\n",
            "0.9775935108325122\n"
          ]
        }
      ]
    },
    {
      "cell_type": "code",
      "source": [],
      "metadata": {
        "id": "NiUR2Z9bn97R"
      },
      "execution_count": 26,
      "outputs": []
    }
  ]
}