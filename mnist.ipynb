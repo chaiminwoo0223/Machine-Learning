{
  "nbformat": 4,
  "nbformat_minor": 0,
  "metadata": {
    "colab": {
      "provenance": [],
      "authorship_tag": "ABX9TyOMsbnPkT77zU5DeDbrnqOG",
      "include_colab_link": true
    },
    "kernelspec": {
      "name": "python3",
      "display_name": "Python 3"
    },
    "language_info": {
      "name": "python"
    },
    "accelerator": "GPU",
    "gpuClass": "standard"
  },
  "cells": [
    {
      "cell_type": "markdown",
      "metadata": {
        "id": "view-in-github",
        "colab_type": "text"
      },
      "source": [
        "<a href=\"https://colab.research.google.com/github/chaiminwoo0223/Machine-Learning/blob/main/mnist.ipynb\" target=\"_parent\"><img src=\"https://colab.research.google.com/assets/colab-badge.svg\" alt=\"Open In Colab\"/></a>"
      ]
    },
    {
      "cell_type": "code",
      "source": [
        "# 숫자인식 인공지능"
      ],
      "metadata": {
        "id": "Is1QZ4WSrW5U"
      },
      "execution_count": 1,
      "outputs": []
    },
    {
      "cell_type": "code",
      "execution_count": 2,
      "metadata": {
        "id": "-jro3MuzX7PN"
      },
      "outputs": [],
      "source": [
        "from tensorflow.keras.models import Sequential\n",
        "from tensorflow.keras.layers import Dense, Activation\n",
        "from tensorflow.keras.utils import to_categorical\n",
        "from tensorflow.keras.datasets import mnist\n",
        "import numpy as np\n",
        "import matplotlib.pyplot as plt"
      ]
    },
    {
      "cell_type": "code",
      "source": [
        "(x_train, y_train), (x_test, y_test) = mnist.load_data()\n",
        "print(\"x_train shape\", x_train.shape)\n",
        "print(\"y_train shape\", y_train.shape)\n",
        "print(\"x_test shape\", x_test.shape)\n",
        "print(\"y_test shape\", y_test.shape)"
      ],
      "metadata": {
        "colab": {
          "base_uri": "https://localhost:8080/"
        },
        "id": "05th0XW_ZGOp",
        "outputId": "33b611d0-554e-4f6c-9662-b6c9cf9aa804"
      },
      "execution_count": 3,
      "outputs": [
        {
          "output_type": "stream",
          "name": "stdout",
          "text": [
            "Downloading data from https://storage.googleapis.com/tensorflow/tf-keras-datasets/mnist.npz\n",
            "11490434/11490434 [==============================] - 0s 0us/step\n",
            "x_train shape (60000, 28, 28)\n",
            "y_train shape (60000,)\n",
            "x_test shape (10000, 28, 28)\n",
            "y_test shape (10000,)\n"
          ]
        }
      ]
    },
    {
      "cell_type": "code",
      "source": [
        "print(type(x_train))\n",
        "print(type(y_train))\n",
        "print(type(x_test))\n",
        "print(type(y_test))"
      ],
      "metadata": {
        "colab": {
          "base_uri": "https://localhost:8080/"
        },
        "id": "zTNFmr03irOG",
        "outputId": "0986c0c1-e453-4d04-cb0d-e30384bc1b16"
      },
      "execution_count": 4,
      "outputs": [
        {
          "output_type": "stream",
          "name": "stdout",
          "text": [
            "<class 'numpy.ndarray'>\n",
            "<class 'numpy.ndarray'>\n",
            "<class 'numpy.ndarray'>\n",
            "<class 'numpy.ndarray'>\n"
          ]
        }
      ]
    },
    {
      "cell_type": "code",
      "source": [
        "print(x_train[0:1])"
      ],
      "metadata": {
        "colab": {
          "base_uri": "https://localhost:8080/"
        },
        "id": "3xey_IsvjRCU",
        "outputId": "14e04086-c22e-430d-ae82-73896992d35f"
      },
      "execution_count": 5,
      "outputs": [
        {
          "output_type": "stream",
          "name": "stdout",
          "text": [
            "[[[  0   0   0   0   0   0   0   0   0   0   0   0   0   0   0   0   0\n",
            "     0   0   0   0   0   0   0   0   0   0   0]\n",
            "  [  0   0   0   0   0   0   0   0   0   0   0   0   0   0   0   0   0\n",
            "     0   0   0   0   0   0   0   0   0   0   0]\n",
            "  [  0   0   0   0   0   0   0   0   0   0   0   0   0   0   0   0   0\n",
            "     0   0   0   0   0   0   0   0   0   0   0]\n",
            "  [  0   0   0   0   0   0   0   0   0   0   0   0   0   0   0   0   0\n",
            "     0   0   0   0   0   0   0   0   0   0   0]\n",
            "  [  0   0   0   0   0   0   0   0   0   0   0   0   0   0   0   0   0\n",
            "     0   0   0   0   0   0   0   0   0   0   0]\n",
            "  [  0   0   0   0   0   0   0   0   0   0   0   0   3  18  18  18 126\n",
            "   136 175  26 166 255 247 127   0   0   0   0]\n",
            "  [  0   0   0   0   0   0   0   0  30  36  94 154 170 253 253 253 253\n",
            "   253 225 172 253 242 195  64   0   0   0   0]\n",
            "  [  0   0   0   0   0   0   0  49 238 253 253 253 253 253 253 253 253\n",
            "   251  93  82  82  56  39   0   0   0   0   0]\n",
            "  [  0   0   0   0   0   0   0  18 219 253 253 253 253 253 198 182 247\n",
            "   241   0   0   0   0   0   0   0   0   0   0]\n",
            "  [  0   0   0   0   0   0   0   0  80 156 107 253 253 205  11   0  43\n",
            "   154   0   0   0   0   0   0   0   0   0   0]\n",
            "  [  0   0   0   0   0   0   0   0   0  14   1 154 253  90   0   0   0\n",
            "     0   0   0   0   0   0   0   0   0   0   0]\n",
            "  [  0   0   0   0   0   0   0   0   0   0   0 139 253 190   2   0   0\n",
            "     0   0   0   0   0   0   0   0   0   0   0]\n",
            "  [  0   0   0   0   0   0   0   0   0   0   0  11 190 253  70   0   0\n",
            "     0   0   0   0   0   0   0   0   0   0   0]\n",
            "  [  0   0   0   0   0   0   0   0   0   0   0   0  35 241 225 160 108\n",
            "     1   0   0   0   0   0   0   0   0   0   0]\n",
            "  [  0   0   0   0   0   0   0   0   0   0   0   0   0  81 240 253 253\n",
            "   119  25   0   0   0   0   0   0   0   0   0]\n",
            "  [  0   0   0   0   0   0   0   0   0   0   0   0   0   0  45 186 253\n",
            "   253 150  27   0   0   0   0   0   0   0   0]\n",
            "  [  0   0   0   0   0   0   0   0   0   0   0   0   0   0   0  16  93\n",
            "   252 253 187   0   0   0   0   0   0   0   0]\n",
            "  [  0   0   0   0   0   0   0   0   0   0   0   0   0   0   0   0   0\n",
            "   249 253 249  64   0   0   0   0   0   0   0]\n",
            "  [  0   0   0   0   0   0   0   0   0   0   0   0   0   0  46 130 183\n",
            "   253 253 207   2   0   0   0   0   0   0   0]\n",
            "  [  0   0   0   0   0   0   0   0   0   0   0   0  39 148 229 253 253\n",
            "   253 250 182   0   0   0   0   0   0   0   0]\n",
            "  [  0   0   0   0   0   0   0   0   0   0  24 114 221 253 253 253 253\n",
            "   201  78   0   0   0   0   0   0   0   0   0]\n",
            "  [  0   0   0   0   0   0   0   0  23  66 213 253 253 253 253 198  81\n",
            "     2   0   0   0   0   0   0   0   0   0   0]\n",
            "  [  0   0   0   0   0   0  18 171 219 253 253 253 253 195  80   9   0\n",
            "     0   0   0   0   0   0   0   0   0   0   0]\n",
            "  [  0   0   0   0  55 172 226 253 253 253 253 244 133  11   0   0   0\n",
            "     0   0   0   0   0   0   0   0   0   0   0]\n",
            "  [  0   0   0   0 136 253 253 253 212 135 132  16   0   0   0   0   0\n",
            "     0   0   0   0   0   0   0   0   0   0   0]\n",
            "  [  0   0   0   0   0   0   0   0   0   0   0   0   0   0   0   0   0\n",
            "     0   0   0   0   0   0   0   0   0   0   0]\n",
            "  [  0   0   0   0   0   0   0   0   0   0   0   0   0   0   0   0   0\n",
            "     0   0   0   0   0   0   0   0   0   0   0]\n",
            "  [  0   0   0   0   0   0   0   0   0   0   0   0   0   0   0   0   0\n",
            "     0   0   0   0   0   0   0   0   0   0   0]]]\n"
          ]
        }
      ]
    },
    {
      "cell_type": "code",
      "source": [
        "X_train = x_train.reshape(60000, 784)\n",
        "X_test = x_test.reshape(10000, 784)\n",
        "print(X_train.shape)\n",
        "print(X_test.shape)"
      ],
      "metadata": {
        "colab": {
          "base_uri": "https://localhost:8080/"
        },
        "id": "NBpg3lA-ZzMb",
        "outputId": "15a6fe19-6f17-47fb-f6ac-9e178fe1bb03"
      },
      "execution_count": 6,
      "outputs": [
        {
          "output_type": "stream",
          "name": "stdout",
          "text": [
            "(60000, 784)\n",
            "(10000, 784)\n"
          ]
        }
      ]
    },
    {
      "cell_type": "code",
      "source": [
        "X_train = X_train.astype('float32')\n",
        "X_test = X_test.astype('float32')\n",
        "X_train /= 255\n",
        "X_test /= 255\n",
        "print(\"X Training matrix shape\", X_train.shape)\n",
        "print(\"X Testing matrix shape\", X_test.shape)"
      ],
      "metadata": {
        "colab": {
          "base_uri": "https://localhost:8080/"
        },
        "id": "q2B1iKXLj3mL",
        "outputId": "ff80c34a-32cb-4c55-bea4-c4ab4315a2c9"
      },
      "execution_count": 7,
      "outputs": [
        {
          "output_type": "stream",
          "name": "stdout",
          "text": [
            "X Training matrix shape (60000, 784)\n",
            "X Testing matrix shape (10000, 784)\n"
          ]
        }
      ]
    },
    {
      "cell_type": "code",
      "source": [
        "Y_train = to_categorical(y_train, 10)\n",
        "Y_test = to_categorical(y_test, 10)\n",
        "print(\"Y Training matrix shape\", Y_train.shape)\n",
        "print(\"Y Testing matrix shape\", Y_test.shape)"
      ],
      "metadata": {
        "colab": {
          "base_uri": "https://localhost:8080/"
        },
        "id": "QWX5R3ZMkxhK",
        "outputId": "ab9683df-37d9-4b48-e230-f0f76726f0cc"
      },
      "execution_count": 8,
      "outputs": [
        {
          "output_type": "stream",
          "name": "stdout",
          "text": [
            "Y Training matrix shape (60000, 10)\n",
            "Y Testing matrix shape (10000, 10)\n"
          ]
        }
      ]
    },
    {
      "cell_type": "code",
      "source": [
        "print(y_train[0])\n",
        "print(Y_train[0])"
      ],
      "metadata": {
        "colab": {
          "base_uri": "https://localhost:8080/"
        },
        "id": "W47YyfoAlcQc",
        "outputId": "059c4995-3fb6-49a2-acee-808ba5cc50d9"
      },
      "execution_count": 9,
      "outputs": [
        {
          "output_type": "stream",
          "name": "stdout",
          "text": [
            "5\n",
            "[0. 0. 0. 0. 0. 1. 0. 0. 0. 0.]\n"
          ]
        }
      ]
    },
    {
      "cell_type": "code",
      "source": [
        "print(y_train[1])\n",
        "print(Y_train[1])"
      ],
      "metadata": {
        "colab": {
          "base_uri": "https://localhost:8080/"
        },
        "id": "Xul0sGocl0Kj",
        "outputId": "6ec60680-52ad-4979-d1e0-2b917d3e9d42"
      },
      "execution_count": 10,
      "outputs": [
        {
          "output_type": "stream",
          "name": "stdout",
          "text": [
            "0\n",
            "[1. 0. 0. 0. 0. 0. 0. 0. 0. 0.]\n"
          ]
        }
      ]
    },
    {
      "cell_type": "code",
      "source": [
        "print(y_train[0:10])\n",
        "print(Y_train[0:10])"
      ],
      "metadata": {
        "colab": {
          "base_uri": "https://localhost:8080/"
        },
        "id": "jIjNfcSkl2wS",
        "outputId": "f1a174c0-128e-4251-e1c6-54a1ba94d0df"
      },
      "execution_count": 11,
      "outputs": [
        {
          "output_type": "stream",
          "name": "stdout",
          "text": [
            "[5 0 4 1 9 2 1 3 1 4]\n",
            "[[0. 0. 0. 0. 0. 1. 0. 0. 0. 0.]\n",
            " [1. 0. 0. 0. 0. 0. 0. 0. 0. 0.]\n",
            " [0. 0. 0. 0. 1. 0. 0. 0. 0. 0.]\n",
            " [0. 1. 0. 0. 0. 0. 0. 0. 0. 0.]\n",
            " [0. 0. 0. 0. 0. 0. 0. 0. 0. 1.]\n",
            " [0. 0. 1. 0. 0. 0. 0. 0. 0. 0.]\n",
            " [0. 1. 0. 0. 0. 0. 0. 0. 0. 0.]\n",
            " [0. 0. 0. 1. 0. 0. 0. 0. 0. 0.]\n",
            " [0. 1. 0. 0. 0. 0. 0. 0. 0. 0.]\n",
            " [0. 0. 0. 0. 1. 0. 0. 0. 0. 0.]]\n"
          ]
        }
      ]
    },
    {
      "cell_type": "code",
      "source": [
        "print(y_test[0:10])\n",
        "print(Y_test[0:10])"
      ],
      "metadata": {
        "id": "2-Ufp0JTmrd7",
        "colab": {
          "base_uri": "https://localhost:8080/"
        },
        "outputId": "9a4e8562-ec44-4a92-e5f0-9cd4db3d8d83"
      },
      "execution_count": 12,
      "outputs": [
        {
          "output_type": "stream",
          "name": "stdout",
          "text": [
            "[7 2 1 0 4 1 4 9 5 9]\n",
            "[[0. 0. 0. 0. 0. 0. 0. 1. 0. 0.]\n",
            " [0. 0. 1. 0. 0. 0. 0. 0. 0. 0.]\n",
            " [0. 1. 0. 0. 0. 0. 0. 0. 0. 0.]\n",
            " [1. 0. 0. 0. 0. 0. 0. 0. 0. 0.]\n",
            " [0. 0. 0. 0. 1. 0. 0. 0. 0. 0.]\n",
            " [0. 1. 0. 0. 0. 0. 0. 0. 0. 0.]\n",
            " [0. 0. 0. 0. 1. 0. 0. 0. 0. 0.]\n",
            " [0. 0. 0. 0. 0. 0. 0. 0. 0. 1.]\n",
            " [0. 0. 0. 0. 0. 1. 0. 0. 0. 0.]\n",
            " [0. 0. 0. 0. 0. 0. 0. 0. 0. 1.]]\n"
          ]
        }
      ]
    },
    {
      "cell_type": "code",
      "source": [
        "model = Sequential()\n",
        "model.add(Dense(512, input_shape=(784,)))\n",
        "model.add(Activation('relu'))\n",
        "model.add(Dense(256))\n",
        "model.add(Activation('relu'))\n",
        "model.add(Dense(10))\n",
        "model.add(Activation('softmax'))"
      ],
      "metadata": {
        "id": "wDceHq0_mKrs"
      },
      "execution_count": 13,
      "outputs": []
    },
    {
      "cell_type": "code",
      "source": [
        "model.summary()"
      ],
      "metadata": {
        "colab": {
          "base_uri": "https://localhost:8080/"
        },
        "id": "LU8oNmQhfiJf",
        "outputId": "57657bf9-7b1e-4963-8a8d-0fdb9b8f961e"
      },
      "execution_count": 14,
      "outputs": [
        {
          "output_type": "stream",
          "name": "stdout",
          "text": [
            "Model: \"sequential\"\n",
            "_________________________________________________________________\n",
            " Layer (type)                Output Shape              Param #   \n",
            "=================================================================\n",
            " dense (Dense)               (None, 512)               401920    \n",
            "                                                                 \n",
            " activation (Activation)     (None, 512)               0         \n",
            "                                                                 \n",
            " dense_1 (Dense)             (None, 256)               131328    \n",
            "                                                                 \n",
            " activation_1 (Activation)   (None, 256)               0         \n",
            "                                                                 \n",
            " dense_2 (Dense)             (None, 10)                2570      \n",
            "                                                                 \n",
            " activation_2 (Activation)   (None, 10)                0         \n",
            "                                                                 \n",
            "=================================================================\n",
            "Total params: 535,818\n",
            "Trainable params: 535,818\n",
            "Non-trainable params: 0\n",
            "_________________________________________________________________\n"
          ]
        }
      ]
    },
    {
      "cell_type": "code",
      "source": [
        "model.compile(optimizer='adam', loss='categorical_crossentropy', metrics=['accuracy'])\n",
        "model.fit(X_train, Y_train, batch_size=128, epochs=10, verbose=1)"
      ],
      "metadata": {
        "colab": {
          "base_uri": "https://localhost:8080/"
        },
        "id": "fEn59URTfwf-",
        "outputId": "6ce8ec1f-1e5b-4bfe-9c09-c603db2369d5"
      },
      "execution_count": 15,
      "outputs": [
        {
          "output_type": "stream",
          "name": "stdout",
          "text": [
            "Epoch 1/10\n",
            "469/469 [==============================] - 6s 5ms/step - loss: 0.2281 - accuracy: 0.9328\n",
            "Epoch 2/10\n",
            "469/469 [==============================] - 1s 3ms/step - loss: 0.0836 - accuracy: 0.9747\n",
            "Epoch 3/10\n",
            "469/469 [==============================] - 1s 3ms/step - loss: 0.0538 - accuracy: 0.9833\n",
            "Epoch 4/10\n",
            "469/469 [==============================] - 1s 3ms/step - loss: 0.0378 - accuracy: 0.9880\n",
            "Epoch 5/10\n",
            "469/469 [==============================] - 1s 3ms/step - loss: 0.0270 - accuracy: 0.9910\n",
            "Epoch 6/10\n",
            "469/469 [==============================] - 1s 3ms/step - loss: 0.0202 - accuracy: 0.9933\n",
            "Epoch 7/10\n",
            "469/469 [==============================] - 1s 3ms/step - loss: 0.0178 - accuracy: 0.9943\n",
            "Epoch 8/10\n",
            "469/469 [==============================] - 1s 3ms/step - loss: 0.0176 - accuracy: 0.9940\n",
            "Epoch 9/10\n",
            "469/469 [==============================] - 1s 3ms/step - loss: 0.0131 - accuracy: 0.9954\n",
            "Epoch 10/10\n",
            "469/469 [==============================] - 1s 3ms/step - loss: 0.0109 - accuracy: 0.9965\n"
          ]
        },
        {
          "output_type": "execute_result",
          "data": {
            "text/plain": [
              "<keras.callbacks.History at 0x7ffaf89e2dd0>"
            ]
          },
          "metadata": {},
          "execution_count": 15
        }
      ]
    },
    {
      "cell_type": "code",
      "source": [
        "score = model.evaluate(X_test, Y_test)\n",
        "print(\"Test score\", score[0])\n",
        "print(\"Test accuracy\", score[1])"
      ],
      "metadata": {
        "colab": {
          "base_uri": "https://localhost:8080/"
        },
        "id": "NQ0qIlN1gjT2",
        "outputId": "9cf4eadb-3789-4800-a4c3-325dd3a8ef9f"
      },
      "execution_count": 16,
      "outputs": [
        {
          "output_type": "stream",
          "name": "stdout",
          "text": [
            "313/313 [==============================] - 1s 3ms/step - loss: 0.0769 - accuracy: 0.9823\n",
            "Test score 0.0768657773733139\n",
            "Test accuracy 0.9822999835014343\n"
          ]
        }
      ]
    },
    {
      "cell_type": "code",
      "source": [
        "model.predict(X_test[:5])"
      ],
      "metadata": {
        "colab": {
          "base_uri": "https://localhost:8080/"
        },
        "id": "t60nSVusjkwe",
        "outputId": "20d24cd5-150d-4bd3-ba39-afeac114a769"
      },
      "execution_count": 17,
      "outputs": [
        {
          "output_type": "stream",
          "name": "stdout",
          "text": [
            "1/1 [==============================] - 0s 71ms/step\n"
          ]
        },
        {
          "output_type": "execute_result",
          "data": {
            "text/plain": [
              "array([[1.07341301e-14, 3.21951771e-11, 4.05904726e-10, 9.39674472e-09,\n",
              "        1.52080888e-16, 1.43710388e-13, 1.24729919e-17, 1.00000000e+00,\n",
              "        1.25548036e-11, 5.02430486e-10],\n",
              "       [5.17424686e-19, 1.84478299e-08, 1.00000000e+00, 2.32619425e-13,\n",
              "        1.52909729e-25, 2.04771166e-18, 3.28492485e-20, 1.30036422e-14,\n",
              "        4.60240705e-14, 1.89811392e-24],\n",
              "       [1.00361708e-09, 9.99971986e-01, 2.53568487e-07, 1.70058481e-11,\n",
              "        4.08431653e-08, 1.30128130e-09, 5.51466339e-09, 9.03187811e-06,\n",
              "        1.87723999e-05, 3.13107769e-11],\n",
              "       [9.99999523e-01, 1.35193150e-11, 2.04944527e-07, 1.17713012e-12,\n",
              "        2.53335265e-12, 3.75947158e-13, 2.64392863e-09, 9.81143500e-10,\n",
              "        9.12488076e-13, 2.69680811e-07],\n",
              "       [9.20132970e-10, 3.93517774e-10, 5.18346166e-09, 3.01156046e-13,\n",
              "        9.99884009e-01, 8.39187955e-11, 6.85375490e-09, 3.19026503e-06,\n",
              "        1.20954340e-08, 1.12696587e-04]], dtype=float32)"
            ]
          },
          "metadata": {},
          "execution_count": 17
        }
      ]
    },
    {
      "cell_type": "code",
      "source": [
        "np.argmax(model.predict(X_test[:5]), axis=1)"
      ],
      "metadata": {
        "colab": {
          "base_uri": "https://localhost:8080/"
        },
        "id": "xOWLPHR2kDD1",
        "outputId": "d58592b2-42b4-4e0c-84ab-399a69b7cd7d"
      },
      "execution_count": 18,
      "outputs": [
        {
          "output_type": "stream",
          "name": "stdout",
          "text": [
            "1/1 [==============================] - 0s 17ms/step\n"
          ]
        },
        {
          "output_type": "execute_result",
          "data": {
            "text/plain": [
              "array([7, 2, 1, 0, 4])"
            ]
          },
          "metadata": {},
          "execution_count": 18
        }
      ]
    },
    {
      "cell_type": "code",
      "source": [
        "predicted_classes = np.argmax(model.predict(X_test), axis=1)\n",
        "correct_indices = np.nonzero(predicted_classes == y_test)[0]\n",
        "incorrect_indices = np.nonzero(predicted_classes != y_test)[0]"
      ],
      "metadata": {
        "colab": {
          "base_uri": "https://localhost:8080/"
        },
        "id": "r6WzIL6Sht6e",
        "outputId": "f6d818d4-da8f-4afa-835b-d9943d533f0c"
      },
      "execution_count": 19,
      "outputs": [
        {
          "output_type": "stream",
          "name": "stdout",
          "text": [
            "313/313 [==============================] - 1s 2ms/step\n"
          ]
        }
      ]
    },
    {
      "cell_type": "code",
      "source": [
        "plt.figure(figsize=(12,9))\n",
        "for i in range(25):\n",
        "    plt.subplot(5,5,i+1)\n",
        "    correct = correct_indices[i]\n",
        "    plt.imshow(X_test[correct].reshape(28,28), cmap='gray')\n",
        "    plt.title(\"Predicted {}, Class {}\".format(predicted_classes[correct], y_test[correct]))\n",
        "    plt.axis('off')\n",
        "plt.tight_layout()"
      ],
      "metadata": {
        "colab": {
          "base_uri": "https://localhost:8080/",
          "height": 657
        },
        "id": "cSGahI_HiyMW",
        "outputId": "5ab29fa4-f4ab-4246-f4e6-d6f780d271bf"
      },
      "execution_count": 20,
      "outputs": [
        {
          "output_type": "display_data",
          "data": {
            "text/plain": [
              "<Figure size 864x648 with 25 Axes>"
            ],
            "image/png": "[encoded data removed]"
          },
          "metadata": {
            "needs_background": "light"
          }
        }
      ]
    },
    {
      "cell_type": "code",
      "source": [
        "plt.figure(figsize=(12,9))\n",
        "for i in range(25):\n",
        "    plt.subplot(5,5,i+1)\n",
        "    incorrect = incorrect_indices[i]\n",
        "    plt.imshow(X_test[incorrect].reshape(28,28), cmap='gray')\n",
        "    plt.title(\"Predicted {}, Class {}\".format(predicted_classes[incorrect], y_test[incorrect]))\n",
        "    plt.axis('off')\n",
        "plt.tight_layout()"
      ],
      "metadata": {
        "colab": {
          "base_uri": "https://localhost:8080/",
          "height": 657
        },
        "id": "PNdS6Y9_k5v0",
        "outputId": "7ffd8770-d662-4ac3-99b5-1707698585ad"
      },
      "execution_count": 21,
      "outputs": [
        {
          "output_type": "display_data",
          "data": {
            "text/plain": [
              "<Figure size 864x648 with 25 Axes>"
            ],
            "image/png": "[encoded data removed]"
          },
          "metadata": {
            "needs_background": "light"
          }
        }
      ]
    },
    {
      "cell_type": "code",
      "source": [],
      "metadata": {
        "id": "oFdnq4HDmRHT"
      },
      "execution_count": 21,
      "outputs": []
    }
  ]
}