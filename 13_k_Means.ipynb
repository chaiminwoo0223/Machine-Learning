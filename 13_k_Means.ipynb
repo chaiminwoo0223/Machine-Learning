{
  "nbformat": 4,
  "nbformat_minor": 0,
  "metadata": {
    "colab": {
      "private_outputs": true,
      "provenance": [],
      "authorship_tag": "ABX9TyO0JyPqDw5H7WTZXQrRBJfd",
      "include_colab_link": true
    },
    "kernelspec": {
      "name": "python3",
      "display_name": "Python 3"
    },
    "language_info": {
      "name": "python"
    }
  },
  "cells": [
    {
      "cell_type": "markdown",
      "metadata": {
        "id": "view-in-github",
        "colab_type": "text"
      },
      "source": [
        "<a href=\"https://colab.research.google.com/github/chaiminwoo0223/Machine-Learning/blob/main/13_k_Means.ipynb\" target=\"_parent\"><img src=\"https://colab.research.google.com/assets/colab-badge.svg\" alt=\"Open In Colab\"/></a>"
      ]
    },
    {
      "cell_type": "code",
      "execution_count": null,
      "metadata": {
        "id": "7Gm_kmiJqK-c"
      },
      "outputs": [],
      "source": [
        "!wget https://bit.ly/fruits_300_data -O fruits_300.npy"
      ]
    },
    {
      "cell_type": "code",
      "source": [
        "import numpy as np\n",
        "fruits = np.load('fruits_300.npy')\n",
        "fruits_2d = fruits.reshape(-1,100*100)"
      ],
      "metadata": {
        "id": "cTh6ZSkzqWYF"
      },
      "execution_count": null,
      "outputs": []
    },
    {
      "cell_type": "code",
      "source": [
        "from sklearn.cluster import KMeans\n",
        "km = KMeans(n_clusters = 3,random_state = 42)\n",
        "km.fit(fruits_2d)"
      ],
      "metadata": {
        "id": "JikhufU0rJp5"
      },
      "execution_count": null,
      "outputs": []
    },
    {
      "cell_type": "code",
      "source": [
        "print(km.labels_)"
      ],
      "metadata": {
        "id": "zaijPNqNrn1q"
      },
      "execution_count": null,
      "outputs": []
    },
    {
      "cell_type": "code",
      "source": [
        "print(np.unique(km.labels_,return_counts = True))"
      ],
      "metadata": {
        "id": "o3S-87cJrsTJ"
      },
      "execution_count": null,
      "outputs": []
    },
    {
      "cell_type": "code",
      "source": [
        "import matplotlib.pyplot as plt\n",
        "def draw_fruits(arr, ratio = 1):\n",
        "    n = len(arr)\n",
        "    rows = int(np.ceil(n/10))\n",
        "    cols = n if rows < 2 else 10\n",
        "    fig, axs = plt.subplots(rows,cols,figsize = (cols * ratio,rows * ratio),squeeze = False)\n",
        "    for i in range(rows):\n",
        "        for j in range(cols):\n",
        "            if i*10 + j < n:\n",
        "                axs[i,j].imshow(arr[i*10 + j],cmap = 'gray_r')\n",
        "            axs[i,j].axis('off')\n",
        "    plt.show()"
      ],
      "metadata": {
        "id": "s2NZ_ePur2mh"
      },
      "execution_count": null,
      "outputs": []
    },
    {
      "cell_type": "code",
      "source": [
        "draw_fruits(fruits[km.labels_ == 0])"
      ],
      "metadata": {
        "id": "nBc6_5oYuDB1"
      },
      "execution_count": null,
      "outputs": []
    },
    {
      "cell_type": "code",
      "source": [
        "draw_fruits(fruits[km.labels_ == 1])"
      ],
      "metadata": {
        "id": "0LEE5HqXvZ7e"
      },
      "execution_count": null,
      "outputs": []
    },
    {
      "cell_type": "code",
      "source": [
        "draw_fruits(fruits[km.labels_ == 2])"
      ],
      "metadata": {
        "id": "BzZy9N0cwnjW"
      },
      "execution_count": null,
      "outputs": []
    },
    {
      "cell_type": "code",
      "source": [
        "draw_fruits(km.cluster_centers_.reshape(-1,100,100),ratio = 3)"
      ],
      "metadata": {
        "id": "P8tOU07owp0X"
      },
      "execution_count": null,
      "outputs": []
    },
    {
      "cell_type": "code",
      "source": [
        "print(km.n_iter_)"
      ],
      "metadata": {
        "id": "OuN3cZejxdmd"
      },
      "execution_count": null,
      "outputs": []
    },
    {
      "cell_type": "code",
      "source": [
        "print(km.predict(fruits_2d[100:101]))"
      ],
      "metadata": {
        "id": "cdm8S47gxiQE"
      },
      "execution_count": null,
      "outputs": []
    },
    {
      "cell_type": "code",
      "source": [
        "print(km.transform(fruits_2d[100:101]))"
      ],
      "metadata": {
        "id": "ynfNaFNMxt6s"
      },
      "execution_count": null,
      "outputs": []
    },
    {
      "cell_type": "code",
      "source": [
        "inertia = []\n",
        "for k in range(2,7):\n",
        "    km = KMeans(n_clusters = k,random_state = 42)\n",
        "    km.fit(fruits_2d)\n",
        "    inertia.append(km.inertia_)\n",
        "plt.plot(range(2,7),inertia)\n",
        "plt.xlabel('k')\n",
        "plt.xlabel('inertia')\n",
        "plt.show()"
      ],
      "metadata": {
        "id": "-zK_YJ8NxyXs"
      },
      "execution_count": null,
      "outputs": []
    },
    {
      "cell_type": "code",
      "source": [],
      "metadata": {
        "id": "2Q0Z6kYyzDlk"
      },
      "execution_count": null,
      "outputs": []
    }
  ]
}