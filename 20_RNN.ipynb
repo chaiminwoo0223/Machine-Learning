{
  "nbformat": 4,
  "nbformat_minor": 0,
  "metadata": {
    "colab": {
      "provenance": [],
      "authorship_tag": "ABX9TyPAZolqqVhZzWeWSWhhi6Px",
      "include_colab_link": true
    },
    "kernelspec": {
      "name": "python3",
      "display_name": "Python 3"
    },
    "language_info": {
      "name": "python"
    },
    "gpuClass": "standard"
  },
  "cells": [
    {
      "cell_type": "markdown",
      "metadata": {
        "id": "view-in-github",
        "colab_type": "text"
      },
      "source": [
        "<a href=\"https://colab.research.google.com/github/chaiminwoo0223/Machine-Learning/blob/main/20_RNN.ipynb\" target=\"_parent\"><img src=\"https://colab.research.google.com/assets/colab-badge.svg\" alt=\"Open In Colab\"/></a>"
      ]
    },
    {
      "cell_type": "code",
      "execution_count": 1,
      "metadata": {
        "id": "ZZ90-Zyrn4lX"
      },
      "outputs": [],
      "source": [
        "# IMDB 리뷰 데이터셋 불러오기\n",
        "from tensorflow.keras.datasets import imdb\n",
        "(train_input, train_target), (test_input, test_target) = imdb.load_data(num_words = 500)"
      ]
    },
    {
      "cell_type": "code",
      "source": [
        "print(train_input.shape, train_target.shape)\n",
        "print(test_input.shape, test_target.shape)"
      ],
      "metadata": {
        "colab": {
          "base_uri": "https://localhost:8080/"
        },
        "id": "9Pg80YtAoLvU",
        "outputId": "13690d7e-0046-4ab1-e718-8d8df1e2ac5f"
      },
      "execution_count": 2,
      "outputs": [
        {
          "output_type": "stream",
          "name": "stdout",
          "text": [
            "(25000,) (25000,)\n",
            "(25000,) (25000,)\n"
          ]
        }
      ]
    },
    {
      "cell_type": "code",
      "source": [
        "print(len(train_input[0]), len(train_input[1]))"
      ],
      "metadata": {
        "colab": {
          "base_uri": "https://localhost:8080/"
        },
        "id": "kfJ-K8xTofSk",
        "outputId": "c20d87c0-918b-4db1-be99-3415d6979df0"
      },
      "execution_count": 3,
      "outputs": [
        {
          "output_type": "stream",
          "name": "stdout",
          "text": [
            "218 189\n"
          ]
        }
      ]
    },
    {
      "cell_type": "code",
      "source": [
        "# 리뷰에 따라 텍스트 길이가 모두 달라 파이썬 리스트를 원소로 하여 저장\n",
        "print(train_input[0])"
      ],
      "metadata": {
        "colab": {
          "base_uri": "https://localhost:8080/"
        },
        "id": "jhAcd2Vhony8",
        "outputId": "c6cf26f0-d0af-43d3-f968-4b31a5401fbf"
      },
      "execution_count": 4,
      "outputs": [
        {
          "output_type": "stream",
          "name": "stdout",
          "text": [
            "[1, 14, 22, 16, 43, 2, 2, 2, 2, 65, 458, 2, 66, 2, 4, 173, 36, 256, 5, 25, 100, 43, 2, 112, 50, 2, 2, 9, 35, 480, 284, 5, 150, 4, 172, 112, 167, 2, 336, 385, 39, 4, 172, 2, 2, 17, 2, 38, 13, 447, 4, 192, 50, 16, 6, 147, 2, 19, 14, 22, 4, 2, 2, 469, 4, 22, 71, 87, 12, 16, 43, 2, 38, 76, 15, 13, 2, 4, 22, 17, 2, 17, 12, 16, 2, 18, 2, 5, 62, 386, 12, 8, 316, 8, 106, 5, 4, 2, 2, 16, 480, 66, 2, 33, 4, 130, 12, 16, 38, 2, 5, 25, 124, 51, 36, 135, 48, 25, 2, 33, 6, 22, 12, 215, 28, 77, 52, 5, 14, 407, 16, 82, 2, 8, 4, 107, 117, 2, 15, 256, 4, 2, 7, 2, 5, 2, 36, 71, 43, 2, 476, 26, 400, 317, 46, 7, 4, 2, 2, 13, 104, 88, 4, 381, 15, 297, 98, 32, 2, 56, 26, 141, 6, 194, 2, 18, 4, 226, 22, 21, 134, 476, 26, 480, 5, 144, 30, 2, 18, 51, 36, 28, 224, 92, 25, 104, 4, 226, 65, 16, 38, 2, 88, 12, 16, 283, 5, 16, 2, 113, 103, 32, 15, 16, 2, 19, 178, 32]\n"
          ]
        }
      ]
    },
    {
      "cell_type": "code",
      "source": [
        "# IMDB 데이터는 정수로 변환되어 있으며, 어휘 사전에 없는 단어는 모두 2로 변환\n",
        "print(train_input[:20])"
      ],
      "metadata": {
        "colab": {
          "base_uri": "https://localhost:8080/"
        },
        "id": "Qj6JIsUXorj9",
        "outputId": "99053769-aa28-465a-be96-ac13632ba343"
      },
      "execution_count": 5,
      "outputs": [
        {
          "output_type": "stream",
          "name": "stdout",
          "text": [
            "[list([1, 14, 22, 16, 43, 2, 2, 2, 2, 65, 458, 2, 66, 2, 4, 173, 36, 256, 5, 25, 100, 43, 2, 112, 50, 2, 2, 9, 35, 480, 284, 5, 150, 4, 172, 112, 167, 2, 336, 385, 39, 4, 172, 2, 2, 17, 2, 38, 13, 447, 4, 192, 50, 16, 6, 147, 2, 19, 14, 22, 4, 2, 2, 469, 4, 22, 71, 87, 12, 16, 43, 2, 38, 76, 15, 13, 2, 4, 22, 17, 2, 17, 12, 16, 2, 18, 2, 5, 62, 386, 12, 8, 316, 8, 106, 5, 4, 2, 2, 16, 480, 66, 2, 33, 4, 130, 12, 16, 38, 2, 5, 25, 124, 51, 36, 135, 48, 25, 2, 33, 6, 22, 12, 215, 28, 77, 52, 5, 14, 407, 16, 82, 2, 8, 4, 107, 117, 2, 15, 256, 4, 2, 7, 2, 5, 2, 36, 71, 43, 2, 476, 26, 400, 317, 46, 7, 4, 2, 2, 13, 104, 88, 4, 381, 15, 297, 98, 32, 2, 56, 26, 141, 6, 194, 2, 18, 4, 226, 22, 21, 134, 476, 26, 480, 5, 144, 30, 2, 18, 51, 36, 28, 224, 92, 25, 104, 4, 226, 65, 16, 38, 2, 88, 12, 16, 283, 5, 16, 2, 113, 103, 32, 15, 16, 2, 19, 178, 32])\n",
            " list([1, 194, 2, 194, 2, 78, 228, 5, 6, 2, 2, 2, 134, 26, 4, 2, 8, 118, 2, 14, 394, 20, 13, 119, 2, 189, 102, 5, 207, 110, 2, 21, 14, 69, 188, 8, 30, 23, 7, 4, 249, 126, 93, 4, 114, 9, 2, 2, 5, 2, 4, 116, 9, 35, 2, 4, 229, 9, 340, 2, 4, 118, 9, 4, 130, 2, 19, 4, 2, 5, 89, 29, 2, 46, 37, 4, 455, 9, 45, 43, 38, 2, 2, 398, 4, 2, 26, 2, 5, 163, 11, 2, 2, 4, 2, 9, 194, 2, 7, 2, 2, 349, 2, 148, 2, 2, 2, 15, 123, 125, 68, 2, 2, 15, 349, 165, 2, 98, 5, 4, 228, 9, 43, 2, 2, 15, 299, 120, 5, 120, 174, 11, 220, 175, 136, 50, 9, 2, 228, 2, 5, 2, 2, 245, 2, 5, 4, 2, 131, 152, 491, 18, 2, 32, 2, 2, 14, 9, 6, 371, 78, 22, 2, 64, 2, 9, 8, 168, 145, 23, 4, 2, 15, 16, 4, 2, 5, 28, 6, 52, 154, 462, 33, 89, 78, 285, 16, 145, 95])\n",
            " list([1, 14, 47, 8, 30, 31, 7, 4, 249, 108, 7, 4, 2, 54, 61, 369, 13, 71, 149, 14, 22, 112, 4, 2, 311, 12, 16, 2, 33, 75, 43, 2, 296, 4, 86, 320, 35, 2, 19, 263, 2, 2, 4, 2, 33, 89, 78, 12, 66, 16, 4, 360, 7, 4, 58, 316, 334, 11, 4, 2, 43, 2, 2, 8, 257, 85, 2, 42, 2, 2, 83, 68, 2, 15, 36, 165, 2, 278, 36, 69, 2, 2, 8, 106, 14, 2, 2, 18, 6, 22, 12, 215, 28, 2, 40, 6, 87, 326, 23, 2, 21, 23, 22, 12, 272, 40, 57, 31, 11, 4, 22, 47, 6, 2, 51, 9, 170, 23, 2, 116, 2, 2, 13, 191, 79, 2, 89, 2, 14, 9, 8, 106, 2, 2, 35, 2, 6, 227, 7, 129, 113])\n",
            " list([1, 4, 2, 2, 33, 2, 4, 2, 432, 111, 153, 103, 4, 2, 13, 70, 131, 67, 11, 61, 2, 2, 35, 2, 2, 61, 2, 452, 2, 4, 2, 7, 2, 59, 166, 4, 105, 216, 2, 41, 2, 9, 15, 7, 35, 2, 2, 31, 8, 4, 2, 23, 4, 2, 2, 6, 2, 42, 38, 39, 121, 59, 456, 10, 10, 7, 265, 12, 2, 111, 153, 159, 59, 16, 2, 21, 25, 2, 482, 39, 4, 96, 59, 2, 12, 4, 172, 65, 9, 2, 11, 2, 4, 2, 5, 2, 7, 2, 17, 13, 2, 12, 19, 6, 464, 31, 314, 11, 2, 6, 2, 2, 11, 8, 202, 27, 310, 4, 2, 2, 8, 2, 58, 10, 10, 2, 2, 180, 40, 14, 413, 173, 7, 263, 112, 37, 152, 377, 4, 2, 263, 2, 2, 178, 54, 75, 71, 476, 36, 413, 263, 2, 182, 5, 17, 75, 2, 2, 36, 279, 131, 2, 17, 2, 42, 17, 35, 2, 2, 192, 5, 2, 2, 19, 2, 217, 2, 2, 2, 2, 2, 5, 2, 10, 10, 61, 403, 9, 2, 40, 61, 2, 5, 27, 2, 159, 90, 263, 2, 2, 309, 8, 178, 5, 82, 2, 4, 65, 15, 2, 145, 143, 2, 12, 2, 2, 2, 2, 2, 15, 2, 4, 2, 2, 7, 2, 94, 2, 2, 2, 11, 2, 4, 2, 7, 2, 246, 2, 9, 2, 11, 2, 14, 9, 51, 408, 12, 94, 318, 2, 12, 47, 6, 2, 2, 5, 2, 2, 19, 49, 7, 4, 2, 2, 2, 25, 80, 126, 2, 10, 10, 2, 2, 2, 27, 2, 11, 2, 2, 159, 27, 341, 29, 2, 19, 2, 173, 7, 90, 2, 8, 30, 11, 4, 2, 86, 2, 8, 2, 46, 11, 2, 21, 29, 9, 2, 23, 4, 2, 2, 2, 6, 2, 2, 2, 10, 10, 246, 50, 9, 6, 2, 2, 2, 90, 29, 2, 8, 124, 4, 2, 4, 2, 496, 27, 2, 2, 2, 121, 127, 2, 130, 5, 29, 494, 8, 124, 4, 2, 496, 4, 341, 7, 27, 2, 10, 10, 29, 9, 2, 8, 97, 6, 236, 2, 2, 8, 4, 2, 7, 31, 7, 2, 91, 2, 2, 70, 4, 2, 30, 2, 42, 9, 12, 32, 11, 2, 10, 10, 11, 14, 65, 44, 2, 75, 2, 2, 2, 2, 2, 4, 2, 7, 154, 5, 4, 2, 53, 2, 2, 7, 2, 2, 11, 399, 38, 75, 257, 2, 19, 2, 17, 29, 456, 4, 65, 7, 27, 205, 113, 10, 10, 2, 4, 2, 2, 9, 242, 4, 91, 2, 2, 5, 2, 307, 22, 7, 2, 126, 93, 40, 2, 13, 188, 2, 2, 19, 4, 2, 7, 2, 2, 23, 53, 2, 21, 82, 40, 2, 13, 2, 14, 280, 13, 219, 4, 2, 431, 2, 2, 4, 2, 2, 2, 7, 2, 5, 94, 40, 25, 238, 60, 2, 4, 2, 2, 2, 7, 4, 2, 132, 8, 67, 6, 22, 15, 9, 283, 8, 2, 14, 31, 9, 242, 2, 48, 25, 279, 2, 23, 12, 2, 195, 25, 238, 60, 2, 2, 4, 2, 7, 2, 5, 4, 2, 154, 2, 7, 2, 50, 26, 49, 2, 15, 2, 30, 2, 21, 64, 2])\n",
            " list([1, 249, 2, 7, 61, 113, 10, 10, 13, 2, 14, 20, 56, 33, 2, 18, 457, 88, 13, 2, 2, 45, 2, 13, 70, 79, 49, 2, 2, 13, 16, 355, 340, 355, 2, 96, 143, 4, 22, 32, 289, 7, 61, 369, 71, 2, 5, 13, 16, 131, 2, 249, 114, 249, 229, 249, 20, 13, 28, 126, 110, 13, 473, 8, 2, 61, 419, 56, 429, 6, 2, 18, 35, 2, 95, 474, 2, 5, 25, 124, 138, 88, 12, 421, 2, 52, 2, 2, 61, 419, 11, 13, 2, 15, 2, 20, 11, 4, 2, 5, 296, 12, 2, 5, 15, 421, 128, 74, 233, 334, 207, 126, 224, 12, 2, 298, 2, 2, 7, 2, 5, 2, 2, 43, 8, 79, 120, 15, 2, 13, 2, 25, 2, 18, 165, 170, 143, 19, 14, 5, 2, 6, 226, 251, 7, 61, 113])\n",
            " list([1, 2, 128, 74, 12, 2, 163, 15, 4, 2, 2, 2, 2, 32, 85, 156, 45, 40, 148, 139, 121, 2, 2, 10, 10, 2, 173, 4, 2, 2, 16, 2, 8, 4, 226, 65, 12, 43, 127, 24, 2, 10, 10])\n",
            " list([1, 2, 365, 2, 5, 2, 354, 11, 14, 2, 2, 7, 2, 2, 2, 356, 44, 4, 2, 2, 2, 5, 200, 4, 2, 11, 2, 2, 2, 2, 2, 5, 2, 26, 6, 2, 2, 17, 369, 37, 215, 2, 143, 2, 5, 2, 8, 2, 15, 36, 119, 257, 85, 52, 486, 9, 6, 2, 2, 63, 271, 6, 196, 96, 2, 2, 4, 2, 7, 4, 2, 2, 2, 63, 47, 77, 2, 180, 6, 227, 11, 94, 2, 2, 13, 423, 4, 168, 7, 4, 22, 5, 89, 2, 71, 270, 56, 5, 13, 197, 12, 161, 2, 99, 76, 23, 2, 7, 419, 2, 40, 91, 85, 108, 7, 4, 2, 5, 2, 81, 55, 52, 2])\n",
            " list([1, 4, 2, 2, 4, 65, 7, 4, 2, 2, 2, 2, 2, 2, 2, 2, 2, 2, 2, 2, 2, 2, 4, 2, 2, 2, 37, 9, 150, 4, 2, 2, 11, 2, 4, 2, 2, 313, 6, 176, 2, 9, 2, 138, 9, 2, 19, 4, 96, 183, 26, 4, 192, 15, 27, 2, 2, 2, 2, 2, 84, 11, 4, 2, 152, 339, 2, 42, 2, 2, 2, 345, 2, 2, 142, 43, 218, 208, 54, 29, 2, 2, 46, 4, 2, 183, 80, 115, 30, 4, 172, 174, 10, 10, 2, 398, 2, 2, 2, 34, 2, 2, 2, 2, 17, 4, 2, 2, 2, 64, 85, 22, 2, 2, 38, 230, 9, 4, 2, 2, 251, 2, 2, 195, 301, 14, 16, 31, 7, 4, 2, 8, 2, 2, 33, 4, 2, 103, 465, 2, 42, 2, 45, 446, 11, 2, 19, 184, 76, 32, 4, 2, 207, 110, 13, 197, 4, 2, 16, 2, 2, 2, 2, 13, 258, 4, 2, 66, 338, 55, 2, 4, 2, 2, 65, 2, 8, 2, 61, 2, 42, 2, 61, 2, 120, 45, 2, 6, 320, 2, 99, 196, 2, 2, 2, 4, 225, 4, 373, 2, 33, 4, 130, 63, 69, 72, 2, 46, 2, 225, 14, 66, 194, 2, 2, 56, 8, 2, 2, 6, 2, 155, 11, 4, 2, 2, 45, 2, 2, 8, 30, 6, 117, 430, 19, 6, 2, 9, 15, 66, 424, 8, 2, 178, 9, 15, 66, 424, 8, 2, 178, 9, 15, 66, 142, 15, 9, 424, 8, 28, 178, 2, 44, 12, 17, 4, 130, 2, 2, 9, 6, 2, 267, 185, 430, 4, 118, 2, 277, 15, 4, 2, 100, 216, 56, 19, 4, 357, 114, 2, 367, 45, 115, 93, 2, 121, 4, 2, 79, 32, 68, 278, 39, 8, 2, 162, 2, 237, 2, 7, 98, 306, 8, 157, 2, 2, 11, 6, 2, 13, 2, 15, 2, 76, 42, 138, 36, 2, 77, 2, 159, 150, 4, 229, 497, 8, 2, 11, 175, 251, 453, 19, 2, 189, 12, 43, 127, 6, 394, 292, 7, 2, 4, 107, 8, 4, 2, 15, 2, 2, 9, 2, 42, 2, 6, 66, 78, 22, 15, 13, 244, 2, 8, 135, 233, 52, 44, 10, 10, 466, 112, 398, 2, 34, 4, 2, 2, 2, 2, 225, 57, 2, 133, 225, 6, 227, 7, 2, 2, 6, 171, 139, 7, 2, 2, 56, 11, 6, 2, 21, 164, 25, 426, 81, 33, 344, 2, 19, 6, 2, 7, 2, 2, 6, 2, 4, 22, 9, 2, 2, 237, 45, 188, 6, 55, 2, 2, 2, 2, 225, 2, 2, 42, 2, 225, 6, 2, 2, 2, 2, 21, 4, 2, 9, 364, 23, 4, 2, 2, 225, 24, 76, 133, 18, 4, 189, 2, 10, 10, 2, 11, 2, 11, 2, 14, 47, 15, 2, 364, 352, 168, 44, 12, 45, 24, 2, 93, 21, 247, 2, 4, 116, 34, 35, 2, 8, 72, 177, 9, 164, 8, 2, 344, 44, 13, 191, 135, 13, 126, 421, 233, 18, 259, 10, 10, 4, 2, 2, 4, 2, 2, 7, 112, 199, 2, 357, 39, 63, 12, 115, 2, 2, 8, 15, 35, 2, 2, 65, 57, 2, 6, 2, 277, 2, 37, 25, 92, 202, 6, 2, 44, 25, 28, 6, 22, 15, 122, 24, 2, 72, 33, 32])\n",
            " list([1, 43, 188, 46, 5, 2, 264, 51, 6, 2, 2, 14, 9, 2, 81, 25, 2, 46, 7, 6, 20, 2, 11, 141, 2, 5, 2, 2, 102, 28, 413, 38, 120, 2, 15, 4, 2, 7, 2, 142, 371, 318, 5, 2, 2, 2, 2, 2, 122, 14, 8, 72, 54, 12, 86, 385, 46, 5, 14, 20, 9, 399, 8, 72, 150, 13, 161, 124, 6, 155, 44, 14, 159, 170, 83, 12, 5, 51, 6, 2, 48, 25, 2, 4, 2, 25, 238, 79, 4, 2, 15, 14, 9, 31, 7, 148, 2, 102, 44, 35, 480, 2, 2, 19, 120, 4, 350, 228, 5, 269, 8, 28, 178, 2, 2, 7, 51, 6, 87, 65, 12, 9, 2, 21, 95, 24, 2, 178, 11, 2, 14, 9, 24, 15, 20, 4, 84, 376, 4, 65, 14, 127, 141, 6, 52, 292, 7, 2, 175, 2, 7, 68, 2, 137, 75, 2, 68, 182, 5, 235, 175, 333, 19, 98, 50, 9, 38, 76, 2, 4, 2, 15, 166, 285, 36, 140, 143, 38, 76, 53, 2, 2, 4, 2, 16, 82, 6, 87, 2, 44, 2, 2, 5, 2, 4, 2, 11, 35, 2, 96, 21, 14, 22, 9, 76, 53, 7, 6, 406, 65, 13, 43, 219, 12, 2, 21, 13, 80, 140, 5, 135, 15, 14, 9, 31, 7, 4, 118, 2, 13, 28, 126, 110])\n",
            " list([1, 14, 20, 47, 111, 439, 2, 19, 12, 15, 166, 12, 216, 125, 40, 6, 364, 352, 2, 2, 39, 294, 11, 22, 396, 13, 28, 8, 202, 12, 2, 23, 94, 2, 151, 111, 211, 469, 4, 20, 13, 258, 2, 2, 2, 12, 16, 38, 78, 33, 211, 15, 12, 16, 2, 63, 93, 12, 6, 253, 106, 10, 10, 48, 335, 267, 18, 6, 364, 2, 2, 20, 19, 6, 2, 7, 2, 189, 5, 6, 2, 7, 2, 2, 95, 2, 6, 2, 7, 2, 2, 49, 369, 120, 5, 28, 49, 253, 10, 10, 13, 2, 19, 85, 2, 15, 4, 481, 9, 55, 78, 2, 9, 375, 8, 2, 8, 2, 76, 7, 4, 58, 5, 4, 2, 9, 243, 7, 43, 50])\n",
            " list([1, 2, 189, 438, 47, 110, 142, 7, 6, 2, 120, 4, 236, 378, 7, 153, 19, 87, 108, 141, 17, 2, 5, 2, 2, 2, 23, 8, 4, 136, 2, 2, 4, 2, 43, 2, 21, 2, 419, 5, 2, 120, 91, 2, 189, 2, 5, 9, 2, 31, 7, 4, 118, 2, 189, 108, 126, 93, 2, 16, 2, 324, 23, 6, 364, 352, 21, 14, 9, 93, 56, 18, 11, 230, 53, 2, 74, 31, 34, 4, 2, 7, 4, 22, 5, 14, 11, 471, 9, 2, 34, 4, 321, 487, 5, 116, 15, 2, 4, 22, 9, 6, 2, 4, 114, 2, 23, 107, 293, 2, 2, 5, 328, 2, 4, 2, 109, 9, 6, 132, 2, 2, 2, 8, 2, 18, 2, 29, 9, 276, 11, 6, 2, 19, 289, 409, 4, 2, 2, 2, 2, 2, 2, 2, 5, 27, 2, 2, 2, 103, 6, 346, 137, 11, 4, 2, 295, 36, 2, 2, 6, 2, 273, 11, 4, 2, 15, 2, 35, 154, 2, 103, 2, 173, 7, 12, 36, 2, 2, 94, 2, 2, 5, 2, 36, 203, 30, 2, 8, 361, 12, 8, 2, 143, 4, 2, 2, 10, 10, 328, 2, 9, 6, 55, 221, 2, 5, 146, 165, 179, 2, 15, 50, 2, 53, 108, 448, 23, 12, 17, 225, 38, 76, 2, 18, 183, 8, 81, 19, 12, 45, 2, 8, 135, 15, 2, 166, 4, 118, 7, 45, 2, 17, 466, 45, 2, 4, 22, 115, 165, 2, 2, 5, 2, 8, 2, 73, 469, 167, 2, 2, 2, 6, 87, 2, 18, 4, 22, 4, 192, 15, 91, 7, 12, 304, 273, 2, 4, 2, 2, 2, 2, 15, 4, 22, 2, 55, 2, 5, 14, 2, 2, 4, 2, 326, 7, 4, 2, 2, 8, 361, 2, 8, 2, 46, 7, 4, 2, 45, 55, 2, 8, 79, 496, 98, 45, 400, 301, 15, 4, 2, 9, 4, 155, 15, 66, 2, 84, 5, 14, 22, 2, 15, 17, 4, 167, 2, 15, 75, 70, 115, 66, 30, 252, 7, 2, 51, 9, 2, 4, 2, 5, 14, 2, 8, 2, 15, 2, 165, 127, 2, 8, 30, 179, 2, 4, 22, 9, 2, 18, 6, 176, 7, 2, 2, 4, 2, 114, 4, 105, 26, 32, 55, 221, 11, 68, 205, 96, 5, 4, 192, 15, 4, 274, 410, 220, 304, 23, 94, 205, 109, 9, 55, 73, 224, 259, 2, 15, 4, 22, 2, 2, 34, 4, 130, 2, 30, 2, 345, 17, 4, 277, 199, 166, 281, 5, 2, 8, 30, 179, 2, 444, 2, 9, 6, 371, 87, 189, 22, 5, 31, 7, 4, 118, 7, 4, 2, 2, 2, 2])\n",
            " list([1, 54, 13, 2, 14, 20, 13, 69, 55, 364, 2, 21, 54, 13, 219, 12, 13, 2, 15, 4, 20, 16, 329, 6, 176, 329, 74, 51, 13, 2, 4, 156, 71, 78, 4, 2, 322, 16, 31, 7, 4, 249, 4, 65, 16, 38, 379, 12, 100, 157, 18, 6, 2, 20, 2, 18, 4, 2, 21, 14, 31, 9, 24, 6, 212, 12, 9, 6, 2, 2, 7, 2, 4, 425, 9, 73, 2, 2, 18, 31, 155, 36, 100, 2, 379, 20, 103, 351, 2, 13, 202, 12, 2, 5, 6, 320, 46, 7, 457])\n",
            " list([1, 13, 119, 2, 189, 2, 13, 92, 459, 48, 4, 116, 9, 2, 2, 42, 2, 4, 2, 168, 2, 13, 423, 14, 20, 2, 18, 4, 2, 2, 32, 4, 96, 39, 4, 454, 7, 4, 22, 8, 4, 55, 130, 168, 13, 92, 359, 6, 158, 2, 2, 42, 6, 2, 19, 194, 2, 2, 6, 114, 8, 72, 21, 465, 2, 304, 4, 51, 9, 14, 20, 44, 155, 8, 6, 226, 162, 2, 2, 51, 9, 14, 20, 44, 10, 10, 14, 218, 2, 2, 42, 2, 21, 48, 25, 28, 35, 2, 5, 6, 320, 8, 2, 5, 42, 25, 181, 8, 130, 56, 2, 2, 5, 2, 2, 14, 2])\n",
            " list([1, 259, 37, 100, 169, 2, 2, 11, 14, 418, 7, 2, 2, 8, 28, 68, 419, 2, 75, 28, 4, 2, 2, 2, 173, 58, 2, 322, 19, 2, 32, 120, 41, 2, 2, 2, 39, 2, 2, 34, 35, 2, 492, 150, 59, 9, 2, 2, 2, 32, 120, 4, 2, 2, 4, 2, 38, 2, 2, 2, 8, 2, 2, 2, 41, 2, 11, 2, 2, 75, 28, 4, 2, 37, 2, 46, 34, 2, 6, 2, 37, 43, 2, 8, 30, 27, 2, 442, 2, 19, 90, 88, 29, 385, 99, 2, 5, 2, 34, 2, 27, 2, 2, 260, 383, 19, 41, 2, 5, 95, 2, 41, 56, 75, 28, 4, 2, 37, 9, 2, 2, 34, 27, 2, 5, 37, 266, 344, 5, 2, 27, 2, 25, 67, 45, 32, 2, 2, 2, 4, 64, 2, 2, 11, 14, 2, 2, 7, 2, 9, 54, 4, 2, 2, 27, 2, 2, 45, 6, 52, 155, 14, 2, 16, 324, 23, 374, 88, 2, 51, 6, 437, 7, 2, 22, 12, 62, 30, 48, 15, 232, 37, 2, 2, 2, 8, 30, 2, 11, 14, 2, 9, 66, 2, 57, 2, 91, 84, 104, 2, 26, 2, 75, 219, 14, 2, 20, 95, 276, 23, 2, 255, 4, 2, 449, 61, 2, 12, 16, 6, 2, 17, 8, 63, 31, 16, 433, 51, 9, 170, 23, 11, 2, 134, 2, 2, 2, 2])\n",
            " list([1, 2, 20, 33, 118, 481, 302, 26, 184, 52, 2, 2, 2, 2, 13, 2, 45, 6, 2, 10, 10, 25, 276, 49, 2, 2, 11, 129, 2, 8, 2, 25, 39, 2, 2, 2, 25, 2, 2, 2, 5, 2, 46, 2, 2, 25, 2, 30, 2, 2, 10, 10, 25, 2, 34, 4, 2, 54, 2, 2, 2, 25, 79, 72, 202, 72, 6, 2, 2, 10, 10, 2, 75, 359, 2, 2, 4, 2, 32, 75, 28, 9, 14, 2, 10, 10, 2, 2, 9, 4, 2, 2, 10, 10, 2, 2, 70, 2, 4, 2, 2, 2, 175, 2, 11, 4, 2, 2, 2])\n",
            " list([1, 6, 2, 437, 7, 58, 43, 2, 11, 6, 171, 2, 2, 2, 2, 2, 2, 6, 2, 2, 2, 2, 2, 2, 2, 2, 5, 236, 21, 24, 222, 6, 2, 2, 40, 109, 19, 2, 8, 2, 2, 2, 5, 2, 11, 6, 2, 5, 25, 80, 28, 14, 2, 2, 18, 6, 20, 13, 66, 188, 6, 462, 46, 7, 4, 2, 445, 40, 2, 2, 2, 4, 114, 16, 2, 200, 2, 5, 2, 2, 89, 111, 2, 26, 2, 8, 97, 6, 2, 2, 2, 2, 23, 6, 2, 2, 2, 470, 21, 161, 36, 413, 2, 143, 2, 2, 14, 16, 398, 18, 2, 2, 12, 299, 40, 6, 374, 2, 13, 122, 358, 4, 2, 2, 2, 11, 4, 2, 151])\n",
            " list([1, 2, 2, 11, 4, 2, 9, 4, 2, 4, 2, 9, 17, 2, 17, 27, 2, 495, 5, 53, 2, 2, 5, 2, 2, 89, 100, 12, 30, 101, 128, 4, 498, 9, 484, 480, 5, 4, 2, 63, 9, 2, 111, 211, 103, 14, 2, 24, 252, 48, 14, 16, 4, 86, 58, 13, 2, 12, 5, 2, 11, 72, 4, 91, 2, 2, 2, 7, 101, 20, 2, 2, 4, 2, 485, 11, 14, 20, 9, 484, 2, 5, 4, 430, 2, 9, 82, 6, 87, 217, 2, 29, 456, 23, 27, 205, 4, 114, 9, 356, 2, 13, 2, 202, 12, 245, 21, 4, 130, 9, 66, 87, 13, 2, 14, 17, 31, 7, 2, 289, 118, 19, 2, 5, 2, 245, 82, 25, 203, 181, 8, 2, 46, 2, 2, 2, 54, 12, 266, 46, 2, 375, 291, 13, 440, 48, 25, 40, 2, 2, 14, 31, 46, 17, 12, 2, 2, 11, 4, 2, 358, 2, 6])\n",
            " list([1, 33, 4, 2, 7, 4, 2, 194, 2, 2, 2, 11, 2, 2, 2, 2, 5, 4, 2, 2, 2, 13, 2, 23, 35, 2, 2, 148, 2, 2, 2, 2, 451, 37, 2, 4, 123, 103, 153, 7, 2, 2, 2, 2, 141, 17, 2, 2, 2, 2, 2, 13, 197, 36, 71, 112, 2, 5, 301, 38, 2, 2, 320, 2, 2, 16, 95, 2, 83, 4, 2, 19, 49, 2, 46, 12, 69, 2, 35, 2, 284, 2, 56, 73, 422, 21, 488, 2, 69, 2, 11, 2, 17, 6, 430, 5, 2, 2, 2, 4, 2, 2, 2, 4, 2, 29, 2, 8, 27, 239, 17, 2, 2, 2, 4, 2, 2, 109, 284, 2, 2, 301, 11, 6, 2, 2, 2, 2, 4, 2, 15, 29, 16, 2, 54, 29, 2, 2, 69, 2, 4, 217, 21, 2, 57, 2, 284, 100, 28, 256, 15, 217, 17, 73, 17, 2, 2, 10, 10, 2, 16, 2, 5, 2, 2, 123, 8, 2, 2, 82, 270, 11, 2, 4, 2, 2, 2, 7, 2, 23, 2, 69, 77, 2, 34, 4, 2, 2, 2, 7, 2, 11, 2, 6, 273, 446, 2, 121, 35, 2, 2, 2, 2, 23, 287, 18, 4, 2, 2, 98, 2, 2, 2, 2, 27, 86, 2, 217, 237, 2, 11, 2, 2, 2, 2, 2, 2, 2, 2, 2, 2, 2, 2, 2, 2, 2, 2, 308, 2, 5, 2, 2, 4, 2, 2, 2, 2, 120, 14, 2, 7, 2, 16, 4, 2, 2, 2, 2, 4, 2, 2, 2, 37, 2, 98, 32, 17, 2, 27, 2, 33, 24, 112, 2, 8, 485, 27, 349, 56, 4, 2, 8, 2, 4, 2, 11, 2, 93, 90, 2, 5, 2, 151, 29, 16, 327, 8, 2, 2, 29, 197, 16, 27, 2, 492, 95, 50, 16, 126, 38, 2, 2, 2, 2, 2, 5, 2, 2, 2, 488, 2, 2, 16, 40, 6, 2, 154, 2, 454, 257, 123, 34, 2, 8, 4, 370, 5, 2, 98, 34, 2, 2, 2, 2, 29, 447, 112, 2, 38, 76, 29, 385, 8, 2, 309, 17, 2, 2, 27, 369, 71, 4, 2, 231, 2, 2, 4, 2, 2, 2, 37, 435, 23, 8, 2, 129, 2, 5, 4, 2, 2, 2, 2, 2, 2, 38, 147, 2, 2, 11, 4, 123, 160, 213, 94, 2, 2, 2, 82, 2, 51, 16, 2, 23, 4, 2, 17, 2, 2, 2, 8, 4, 2, 2, 343, 17, 2, 228, 23, 2, 2, 257, 2, 2, 19, 90, 2, 2, 7, 440, 2, 64, 8, 30, 2, 34, 6, 2, 56, 2, 39, 2, 4, 321, 2, 2, 16, 2, 34, 2, 2, 5, 2, 2, 10, 10, 151, 115, 179, 2, 2, 2, 11, 4, 2, 2, 2, 2, 16, 2, 195, 8, 2, 18, 6, 2, 7, 2, 2, 11, 2, 2, 5, 2, 2, 4, 2, 19, 6, 2, 310, 7, 15, 154, 2, 2, 2, 36, 95, 2, 35, 436, 2, 7, 154, 2, 2, 51, 334, 2, 2, 2, 10, 10, 4, 123, 2, 2, 213, 289, 153, 303, 54, 2, 2, 7, 2, 247, 74, 2, 4, 217, 7, 2, 4, 2, 43, 387, 90, 30, 2, 2, 54, 2, 2, 317, 4, 109, 7, 2, 2, 27, 273, 17, 2, 2, 160, 2, 7, 212, 10, 10, 4, 236, 2, 11, 2, 219, 4, 2, 2, 2, 34, 2, 18, 2, 4, 2, 2, 149, 98, 140, 19, 87, 2, 17, 122, 2, 10, 10, 2, 28, 77, 171, 5, 230, 200, 2, 23, 2, 2, 2, 32, 88, 7, 94, 38, 446, 2, 2, 14, 9, 2, 18, 31, 155, 4, 123, 16, 24, 2, 44, 2, 48, 6, 428, 132, 2, 56, 9, 38, 355, 138, 127, 2, 2, 2, 22, 2, 2, 8, 2, 131, 79, 2, 23, 2, 12, 2, 2, 2, 17, 35, 2, 5, 2, 107, 2, 12, 16, 2, 39, 2, 2, 205, 2, 49, 105, 71, 448, 23, 147, 84, 4, 2, 2, 66, 122, 2, 8, 27, 349, 17, 2, 13, 193, 4, 2, 15, 48, 25, 26, 170, 8, 276, 479, 23, 2, 79, 12, 208, 2, 4, 2, 57, 2, 89, 2, 12, 238, 306, 8, 2, 2, 9, 2, 2, 2, 16, 199, 163, 5, 2, 5, 2, 219, 14, 2, 2, 18, 2, 2, 2, 2, 13, 135, 58, 8, 2, 14, 2, 17, 2, 62, 135, 2, 28, 57, 2, 11, 14, 2])\n",
            " list([1, 13, 28, 64, 69, 4, 2, 7, 319, 14, 20, 280, 54, 13, 16, 247, 185, 38, 76, 7, 4, 20, 9, 2, 11, 269, 8, 377, 12, 190, 13, 70, 135, 12, 16, 24, 17, 163, 17, 6, 20, 446, 455, 2, 144, 28, 77, 5, 4, 91, 2, 183, 39, 14, 20, 26, 4, 2, 5, 4, 136, 19, 4, 2, 378, 2, 44, 338, 2, 85, 74, 15, 4, 20, 9, 66, 43, 139, 7, 117, 2, 5, 194, 2, 2, 187, 5, 84, 116, 2, 5, 2, 17, 84, 144, 81, 11, 6, 20, 7, 14, 2, 190, 43, 260, 6, 55, 2, 2, 5, 6, 2, 2, 2, 81, 24, 6, 52, 212, 97, 2, 14, 20, 9, 424, 8, 30, 6, 2, 20, 164, 8, 30, 2, 2, 190, 25, 144, 131, 97, 2, 15, 26, 163, 5, 24, 353, 8, 2, 6, 2, 2, 2, 83, 6, 368, 2, 20, 382, 6, 346, 62, 28, 77, 478, 17, 4, 2, 2, 4, 2, 378, 2, 2, 5, 6, 132, 2, 269, 8, 2, 180, 6, 2, 2, 16, 165, 184, 52, 4, 2, 410, 2, 40, 6, 2, 2, 21, 57, 36, 2, 93, 6, 368, 20, 5, 6, 247, 2, 31, 33, 15])\n",
            " list([1, 2, 26, 9, 6, 2, 2, 2, 44, 6, 255, 2, 2, 2, 2, 2, 2, 9, 2, 2, 103, 2, 59, 9, 2, 75, 95, 67, 4, 2, 11, 2, 2, 4, 2, 15, 30, 124, 15, 29, 16, 2, 99, 2, 5, 15, 27, 322, 2, 90, 29, 9, 2, 29, 70, 2, 8, 2, 21, 24, 17, 309, 2, 2, 153, 121, 75, 67, 2, 2, 2, 2, 2, 2, 8, 2, 39, 2, 5, 2, 6, 185, 132, 2, 2, 2, 37, 12, 2, 46, 9, 4, 2, 7, 41, 336, 4, 22, 9, 6, 117, 23, 4, 2, 499, 4, 65, 271, 32, 4, 2, 25, 2, 12, 8, 21, 12, 9, 38, 2, 256, 34, 35, 2, 177, 262, 2, 5, 2, 15, 25, 191, 339, 21, 79, 2, 56, 11, 4, 253, 2, 47, 2, 77, 110, 23, 268, 8, 128, 2, 5, 59, 5, 2, 26, 2, 34, 6, 2, 2, 7, 109, 156, 11, 2, 2, 6, 2, 5, 2, 2, 15, 80, 2, 5, 2, 25])]\n"
          ]
        }
      ]
    },
    {
      "cell_type": "code",
      "source": [
        "# 0(부정)과 1(긍정)으로 구분\n",
        "print(train_target[:20])"
      ],
      "metadata": {
        "colab": {
          "base_uri": "https://localhost:8080/"
        },
        "id": "g9qD3ZFI2E_-",
        "outputId": "093dc485-4033-4638-9559-10d00c90f8f0"
      },
      "execution_count": 6,
      "outputs": [
        {
          "output_type": "stream",
          "name": "stdout",
          "text": [
            "[1 0 0 1 0 0 1 0 1 0 1 0 0 0 0 0 1 1 0 1]\n"
          ]
        }
      ]
    },
    {
      "cell_type": "code",
      "source": [
        "# 훈련 세트와 검증 세트로 분할(8:2)\n",
        "from sklearn.model_selection import train_test_split\n",
        "train_input, val_input, train_target, val_target = train_test_split(\n",
        "    train_input, train_target, test_size=0.2, random_state=42)"
      ],
      "metadata": {
        "id": "HVLJXO7HouSd"
      },
      "execution_count": 7,
      "outputs": []
    },
    {
      "cell_type": "code",
      "source": [
        "# 훈련 세트 내 각 리뷰(시퀀스)의 길이\n",
        "import numpy as np\n",
        "lengths = np.array([len(x) for x in train_input])\n",
        "lengths"
      ],
      "metadata": {
        "id": "azVKpwM7pDtk",
        "colab": {
          "base_uri": "https://localhost:8080/"
        },
        "outputId": "039afa2a-6972-464c-af85-9c439904f3d0"
      },
      "execution_count": 8,
      "outputs": [
        {
          "output_type": "execute_result",
          "data": {
            "text/plain": [
              "array([259, 520, 290, ..., 300,  70,  77])"
            ]
          },
          "metadata": {},
          "execution_count": 8
        }
      ]
    },
    {
      "cell_type": "code",
      "source": [
        "print(np.mean(lengths), np.median(lengths))"
      ],
      "metadata": {
        "colab": {
          "base_uri": "https://localhost:8080/"
        },
        "id": "REbedqJSpWms",
        "outputId": "fb0801cc-0f4e-4771-fe90-e67354b17806"
      },
      "execution_count": 9,
      "outputs": [
        {
          "output_type": "stream",
          "name": "stdout",
          "text": [
            "239.00925 178.0\n"
          ]
        }
      ]
    },
    {
      "cell_type": "code",
      "source": [
        "# 히스트그램 시각화(리뷰의 길이 데이터)\n",
        "import matplotlib.pyplot as plt\n",
        "plt.hist(lengths)\n",
        "plt.xlabel('lengths')\n",
        "plt.ylabel('frequency')\n",
        "plt.show()"
      ],
      "metadata": {
        "colab": {
          "base_uri": "https://localhost:8080/",
          "height": 279
        },
        "id": "bReuUM47pgPU",
        "outputId": "56f1a1f0-b22f-43e3-c950-6bcafd951ea1"
      },
      "execution_count": 10,
      "outputs": [
        {
          "output_type": "display_data",
          "data": {
            "text/plain": [
              "<Figure size 432x288 with 1 Axes>"
            ],
            "image/png": "[encoded data removed]"
          },
          "metadata": {
            "needs_background": "light"
          }
        }
      ]
    },
    {
      "cell_type": "code",
      "source": [
        "# 리뷰를 순회하면서, 길이가 100이 되도록 잘라내거나 0으로 패딩(전처리)\n",
        "from tensorflow.keras.preprocessing.sequence import pad_sequences\n",
        "train_seq = pad_sequences(train_input, maxlen = 100)"
      ],
      "metadata": {
        "id": "mhot2N7hpuJL"
      },
      "execution_count": 11,
      "outputs": []
    },
    {
      "cell_type": "code",
      "source": [
        "print(train_seq.shape)"
      ],
      "metadata": {
        "colab": {
          "base_uri": "https://localhost:8080/"
        },
        "id": "ZGdYzcVTqCOT",
        "outputId": "63997d8c-04a9-4864-f112-2baeca97a85b"
      },
      "execution_count": 12,
      "outputs": [
        {
          "output_type": "stream",
          "name": "stdout",
          "text": [
            "(20000, 100)\n"
          ]
        }
      ]
    },
    {
      "cell_type": "code",
      "source": [
        "print(train_seq[0])"
      ],
      "metadata": {
        "colab": {
          "base_uri": "https://localhost:8080/"
        },
        "id": "NRjPhwwpqFIE",
        "outputId": "7f25f169-7f2e-4a30-c2c7-0b0f8d8bdb3a"
      },
      "execution_count": 13,
      "outputs": [
        {
          "output_type": "stream",
          "name": "stdout",
          "text": [
            "[ 10   4  20   9   2 364 352   5  45   6   2   2  33 269   8   2 142   2\n",
            "   5   2  17  73  17 204   5   2  19  55   2   2  92  66 104  14  20  93\n",
            "  76   2 151  33   4  58  12 188   2 151  12 215  69 224 142  73 237   6\n",
            "   2   7   2   2 188   2 103  14  31  10  10 451   7   2   5   2  80  91\n",
            "   2  30   2  34  14  20 151  50  26 131  49   2  84  46  50  37  80  79\n",
            "   6   2  46   7  14  20  10  10 470 158]\n"
          ]
        }
      ]
    },
    {
      "cell_type": "code",
      "source": [
        "print(train_seq[0][-10:])"
      ],
      "metadata": {
        "colab": {
          "base_uri": "https://localhost:8080/"
        },
        "id": "2nE8NWjhqKHr",
        "outputId": "1b528be7-1b44-438e-a540-abe22f080c3a"
      },
      "execution_count": 14,
      "outputs": [
        {
          "output_type": "stream",
          "name": "stdout",
          "text": [
            "[  6   2  46   7  14  20  10  10 470 158]\n"
          ]
        }
      ]
    },
    {
      "cell_type": "code",
      "source": [
        "print(train_seq[5])"
      ],
      "metadata": {
        "colab": {
          "base_uri": "https://localhost:8080/"
        },
        "id": "tYO-FqvTqMQV",
        "outputId": "cb621941-bc79-44e1-c300-c11c863314c5"
      },
      "execution_count": 15,
      "outputs": [
        {
          "output_type": "stream",
          "name": "stdout",
          "text": [
            "[  0   0   0   0   1   2 195  19  49   2   2 190   4   2 352   2 183  10\n",
            "  10  13  82  79   4   2  36  71 269   8   2  25  19  49   7   4   2   2\n",
            "   2   2   2  10  10  48  25  40   2  11   2   2  40   2   2   5   4   2\n",
            "   2  95  14 238  56 129   2  10  10  21   2  94 364 352   2   2  11 190\n",
            "  24 484   2   7  94 205 405  10  10  87   2  34  49   2   7   2   2   2\n",
            "   2   2 290   2  46  48  64  18   4   2]\n"
          ]
        }
      ]
    },
    {
      "cell_type": "code",
      "source": [
        "# 원-핫 인코딩\n",
        "from tensorflow import keras\n",
        "train_oh = keras.utils.to_categorical(train_seq)"
      ],
      "metadata": {
        "id": "oT9RPdGwqN0s"
      },
      "execution_count": 16,
      "outputs": []
    },
    {
      "cell_type": "code",
      "source": [
        "print(train_oh.shape)"
      ],
      "metadata": {
        "colab": {
          "base_uri": "https://localhost:8080/"
        },
        "id": "7ZP6htIaqUS7",
        "outputId": "0747b2c5-d767-426b-99d2-36b57a737518"
      },
      "execution_count": 17,
      "outputs": [
        {
          "output_type": "stream",
          "name": "stdout",
          "text": [
            "(20000, 100, 500)\n"
          ]
        }
      ]
    },
    {
      "cell_type": "code",
      "source": [
        "print(train_oh[0][0][:12]) # 10"
      ],
      "metadata": {
        "colab": {
          "base_uri": "https://localhost:8080/"
        },
        "id": "fRJAe8votaF6",
        "outputId": "66eb734b-aa8c-4c3d-bef1-cb6f2a771487"
      },
      "execution_count": 18,
      "outputs": [
        {
          "output_type": "stream",
          "name": "stdout",
          "text": [
            "[0. 0. 0. 0. 0. 0. 0. 0. 0. 0. 1. 0.]\n"
          ]
        }
      ]
    },
    {
      "cell_type": "code",
      "source": [
        "val_seq = pad_sequences(val_input, maxlen = 100)\n",
        "val_oh = keras.utils.to_categorical(val_seq)"
      ],
      "metadata": {
        "id": "zR1Y3WQxte6q"
      },
      "execution_count": 19,
      "outputs": []
    },
    {
      "cell_type": "code",
      "source": [
        "# 순환 신경망 모델 생성하기\n",
        "model = keras.Sequential()\n",
        "model.add(keras.layers.SimpleRNN(8, input_shape=(100, 500)))\n",
        "model.add(keras.layers.Dense(1, activation='sigmoid'))"
      ],
      "metadata": {
        "id": "UaOM6igdtwZZ"
      },
      "execution_count": 20,
      "outputs": []
    },
    {
      "cell_type": "code",
      "source": [
        "model.summary()"
      ],
      "metadata": {
        "colab": {
          "base_uri": "https://localhost:8080/"
        },
        "id": "noMboysRvEDR",
        "outputId": "dbf73a6e-24b5-4f15-9fa1-2841e1a76413"
      },
      "execution_count": 21,
      "outputs": [
        {
          "output_type": "stream",
          "name": "stdout",
          "text": [
            "Model: \"sequential\"\n",
            "_________________________________________________________________\n",
            " Layer (type)                Output Shape              Param #   \n",
            "=================================================================\n",
            " simple_rnn (SimpleRNN)      (None, 8)                 4072      \n",
            "                                                                 \n",
            " dense (Dense)               (None, 1)                 9         \n",
            "                                                                 \n",
            "=================================================================\n",
            "Total params: 4,081\n",
            "Trainable params: 4,081\n",
            "Non-trainable params: 0\n",
            "_________________________________________________________________\n"
          ]
        }
      ]
    },
    {
      "cell_type": "code",
      "source": [
        "rmsprop = keras.optimizers.RMSprop(learning_rate=1e-4)\n",
        "model.compile(optimizer=rmsprop, loss='binary_crossentropy', metrics=['accuracy'])\n",
        "checkpoint_cb = keras.callbacks.ModelCheckpoint('best-simplernn-model.h5', save_best_only=True)\n",
        "early_stopping_cb = keras.callbacks.EarlyStopping(patience=3, restore_best_weights=True)\n",
        "history = model.fit(train_oh, train_target, epochs=100, batch_size=64, validation_data=(val_oh, val_target), callbacks=[checkpoint_cb, early_stopping_cb])"
      ],
      "metadata": {
        "colab": {
          "base_uri": "https://localhost:8080/"
        },
        "id": "ayBlOWX9vJ_w",
        "outputId": "a29ac2b2-e1a5-4ecd-c839-ea4c1eec4dd2"
      },
      "execution_count": 22,
      "outputs": [
        {
          "output_type": "stream",
          "name": "stdout",
          "text": [
            "Epoch 1/100\n",
            "313/313 [==============================] - 16s 48ms/step - loss: 0.6988 - accuracy: 0.5069 - val_loss: 0.6962 - val_accuracy: 0.5150\n",
            "Epoch 2/100\n",
            "313/313 [==============================] - 13s 41ms/step - loss: 0.6930 - accuracy: 0.5206 - val_loss: 0.6907 - val_accuracy: 0.5296\n",
            "Epoch 3/100\n",
            "313/313 [==============================] - 13s 41ms/step - loss: 0.6859 - accuracy: 0.5531 - val_loss: 0.6823 - val_accuracy: 0.5622\n",
            "Epoch 4/100\n",
            "313/313 [==============================] - 13s 42ms/step - loss: 0.6772 - accuracy: 0.5832 - val_loss: 0.6748 - val_accuracy: 0.5876\n",
            "Epoch 5/100\n",
            "313/313 [==============================] - 13s 41ms/step - loss: 0.6678 - accuracy: 0.6155 - val_loss: 0.6655 - val_accuracy: 0.6186\n",
            "Epoch 6/100\n",
            "313/313 [==============================] - 14s 45ms/step - loss: 0.6581 - accuracy: 0.6385 - val_loss: 0.6560 - val_accuracy: 0.6390\n",
            "Epoch 7/100\n",
            "313/313 [==============================] - 13s 41ms/step - loss: 0.6465 - accuracy: 0.6640 - val_loss: 0.6443 - val_accuracy: 0.6628\n",
            "Epoch 8/100\n",
            "313/313 [==============================] - 13s 41ms/step - loss: 0.6346 - accuracy: 0.6849 - val_loss: 0.6368 - val_accuracy: 0.6744\n",
            "Epoch 9/100\n",
            "313/313 [==============================] - 14s 45ms/step - loss: 0.6228 - accuracy: 0.7013 - val_loss: 0.6245 - val_accuracy: 0.6938\n",
            "Epoch 10/100\n",
            "313/313 [==============================] - 14s 45ms/step - loss: 0.6109 - accuracy: 0.7161 - val_loss: 0.6163 - val_accuracy: 0.7016\n",
            "Epoch 11/100\n",
            "313/313 [==============================] - 13s 41ms/step - loss: 0.5997 - accuracy: 0.7261 - val_loss: 0.6060 - val_accuracy: 0.7110\n",
            "Epoch 12/100\n",
            "313/313 [==============================] - 13s 41ms/step - loss: 0.5887 - accuracy: 0.7335 - val_loss: 0.5950 - val_accuracy: 0.7238\n",
            "Epoch 13/100\n",
            "313/313 [==============================] - 13s 42ms/step - loss: 0.5782 - accuracy: 0.7406 - val_loss: 0.5849 - val_accuracy: 0.7320\n",
            "Epoch 14/100\n",
            "313/313 [==============================] - 13s 41ms/step - loss: 0.5675 - accuracy: 0.7484 - val_loss: 0.5766 - val_accuracy: 0.7312\n",
            "Epoch 15/100\n",
            "313/313 [==============================] - 13s 41ms/step - loss: 0.5573 - accuracy: 0.7539 - val_loss: 0.5670 - val_accuracy: 0.7374\n",
            "Epoch 16/100\n",
            "313/313 [==============================] - 13s 41ms/step - loss: 0.5476 - accuracy: 0.7602 - val_loss: 0.5588 - val_accuracy: 0.7404\n",
            "Epoch 17/100\n",
            "313/313 [==============================] - 13s 41ms/step - loss: 0.5377 - accuracy: 0.7649 - val_loss: 0.5503 - val_accuracy: 0.7454\n",
            "Epoch 18/100\n",
            "313/313 [==============================] - 13s 41ms/step - loss: 0.5281 - accuracy: 0.7703 - val_loss: 0.5401 - val_accuracy: 0.7508\n",
            "Epoch 19/100\n",
            "313/313 [==============================] - 13s 41ms/step - loss: 0.5199 - accuracy: 0.7740 - val_loss: 0.5342 - val_accuracy: 0.7526\n",
            "Epoch 20/100\n",
            "313/313 [==============================] - 13s 41ms/step - loss: 0.5127 - accuracy: 0.7765 - val_loss: 0.5278 - val_accuracy: 0.7542\n",
            "Epoch 21/100\n",
            "313/313 [==============================] - 13s 41ms/step - loss: 0.5049 - accuracy: 0.7796 - val_loss: 0.5222 - val_accuracy: 0.7556\n",
            "Epoch 22/100\n",
            "313/313 [==============================] - 13s 42ms/step - loss: 0.4979 - accuracy: 0.7829 - val_loss: 0.5149 - val_accuracy: 0.7632\n",
            "Epoch 23/100\n",
            "313/313 [==============================] - 13s 42ms/step - loss: 0.4917 - accuracy: 0.7861 - val_loss: 0.5099 - val_accuracy: 0.7654\n",
            "Epoch 24/100\n",
            "313/313 [==============================] - 13s 42ms/step - loss: 0.4862 - accuracy: 0.7872 - val_loss: 0.5046 - val_accuracy: 0.7658\n",
            "Epoch 25/100\n",
            "313/313 [==============================] - 13s 41ms/step - loss: 0.4797 - accuracy: 0.7923 - val_loss: 0.5003 - val_accuracy: 0.7662\n",
            "Epoch 26/100\n",
            "313/313 [==============================] - 13s 42ms/step - loss: 0.4740 - accuracy: 0.7940 - val_loss: 0.4970 - val_accuracy: 0.7662\n",
            "Epoch 27/100\n",
            "313/313 [==============================] - 13s 42ms/step - loss: 0.4687 - accuracy: 0.7965 - val_loss: 0.4923 - val_accuracy: 0.7734\n",
            "Epoch 28/100\n",
            "313/313 [==============================] - 13s 42ms/step - loss: 0.4635 - accuracy: 0.7980 - val_loss: 0.4902 - val_accuracy: 0.7698\n",
            "Epoch 29/100\n",
            "313/313 [==============================] - 13s 42ms/step - loss: 0.4591 - accuracy: 0.8004 - val_loss: 0.4856 - val_accuracy: 0.7732\n",
            "Epoch 30/100\n",
            "313/313 [==============================] - 13s 42ms/step - loss: 0.4549 - accuracy: 0.7991 - val_loss: 0.4822 - val_accuracy: 0.7756\n",
            "Epoch 31/100\n",
            "313/313 [==============================] - 13s 42ms/step - loss: 0.4506 - accuracy: 0.8030 - val_loss: 0.4841 - val_accuracy: 0.7722\n",
            "Epoch 32/100\n",
            "313/313 [==============================] - 13s 41ms/step - loss: 0.4474 - accuracy: 0.8055 - val_loss: 0.4777 - val_accuracy: 0.7774\n",
            "Epoch 33/100\n",
            "313/313 [==============================] - 13s 41ms/step - loss: 0.4429 - accuracy: 0.8065 - val_loss: 0.4747 - val_accuracy: 0.7810\n",
            "Epoch 34/100\n",
            "313/313 [==============================] - 13s 41ms/step - loss: 0.4405 - accuracy: 0.8077 - val_loss: 0.4726 - val_accuracy: 0.7824\n",
            "Epoch 35/100\n",
            "313/313 [==============================] - 15s 49ms/step - loss: 0.4374 - accuracy: 0.8094 - val_loss: 0.4731 - val_accuracy: 0.7788\n",
            "Epoch 36/100\n",
            "313/313 [==============================] - 13s 41ms/step - loss: 0.4347 - accuracy: 0.8111 - val_loss: 0.4698 - val_accuracy: 0.7820\n",
            "Epoch 37/100\n",
            "313/313 [==============================] - 13s 41ms/step - loss: 0.4318 - accuracy: 0.8112 - val_loss: 0.4687 - val_accuracy: 0.7826\n",
            "Epoch 38/100\n",
            "313/313 [==============================] - 13s 41ms/step - loss: 0.4294 - accuracy: 0.8129 - val_loss: 0.4676 - val_accuracy: 0.7852\n",
            "Epoch 39/100\n",
            "313/313 [==============================] - 13s 42ms/step - loss: 0.4270 - accuracy: 0.8114 - val_loss: 0.4652 - val_accuracy: 0.7846\n",
            "Epoch 40/100\n",
            "313/313 [==============================] - 13s 42ms/step - loss: 0.4255 - accuracy: 0.8130 - val_loss: 0.4651 - val_accuracy: 0.7860\n",
            "Epoch 41/100\n",
            "313/313 [==============================] - 13s 41ms/step - loss: 0.4232 - accuracy: 0.8147 - val_loss: 0.4640 - val_accuracy: 0.7850\n",
            "Epoch 42/100\n",
            "313/313 [==============================] - 13s 42ms/step - loss: 0.4218 - accuracy: 0.8163 - val_loss: 0.4619 - val_accuracy: 0.7872\n",
            "Epoch 43/100\n",
            "313/313 [==============================] - 13s 41ms/step - loss: 0.4199 - accuracy: 0.8160 - val_loss: 0.4610 - val_accuracy: 0.7860\n",
            "Epoch 44/100\n",
            "313/313 [==============================] - 14s 45ms/step - loss: 0.4178 - accuracy: 0.8179 - val_loss: 0.4642 - val_accuracy: 0.7874\n",
            "Epoch 45/100\n",
            "313/313 [==============================] - 13s 41ms/step - loss: 0.4166 - accuracy: 0.8177 - val_loss: 0.4634 - val_accuracy: 0.7852\n",
            "Epoch 46/100\n",
            "313/313 [==============================] - 13s 42ms/step - loss: 0.4150 - accuracy: 0.8178 - val_loss: 0.4587 - val_accuracy: 0.7882\n",
            "Epoch 47/100\n",
            "313/313 [==============================] - 13s 42ms/step - loss: 0.4130 - accuracy: 0.8188 - val_loss: 0.4588 - val_accuracy: 0.7888\n",
            "Epoch 48/100\n",
            "313/313 [==============================] - 13s 41ms/step - loss: 0.4121 - accuracy: 0.8206 - val_loss: 0.4592 - val_accuracy: 0.7920\n",
            "Epoch 49/100\n",
            "313/313 [==============================] - 13s 42ms/step - loss: 0.4104 - accuracy: 0.8207 - val_loss: 0.4599 - val_accuracy: 0.7914\n"
          ]
        }
      ]
    },
    {
      "cell_type": "code",
      "source": [
        "plt.plot(history.history['loss'])\n",
        "plt.plot(history.history['val_loss'])\n",
        "plt.xlabel('epoch')\n",
        "plt.ylabel('loss')\n",
        "plt.legend(['train', 'val'])\n",
        "plt.show()"
      ],
      "metadata": {
        "colab": {
          "base_uri": "https://localhost:8080/",
          "height": 279
        },
        "id": "Hi1pl4W9wlS5",
        "outputId": "3222a626-1ac3-40c0-8fdf-a631a79b9b48"
      },
      "execution_count": 23,
      "outputs": [
        {
          "output_type": "display_data",
          "data": {
            "text/plain": [
              "<Figure size 432x288 with 1 Axes>"
            ],
            "image/png": "[encoded data removed]"
          },
          "metadata": {
            "needs_background": "light"
          }
        }
      ]
    },
    {
      "cell_type": "code",
      "source": [
        "# 순환 신경망 모델 생성하기(단어 임베딩)\n",
        "model2 = keras.Sequential()\n",
        "model2.add(keras.layers.Embedding(500, 16, input_length=100))\n",
        "model2.add(keras.layers.SimpleRNN(8))\n",
        "model2.add(keras.layers.Dense(1, activation='sigmoid'))"
      ],
      "metadata": {
        "id": "jmlNUzy_z49Y"
      },
      "execution_count": 24,
      "outputs": []
    },
    {
      "cell_type": "code",
      "source": [
        "model2.summary()"
      ],
      "metadata": {
        "colab": {
          "base_uri": "https://localhost:8080/"
        },
        "id": "4a6XPYQZ23-G",
        "outputId": "b6ea7932-3e73-4d1f-db30-7b292a078b72"
      },
      "execution_count": 25,
      "outputs": [
        {
          "output_type": "stream",
          "name": "stdout",
          "text": [
            "Model: \"sequential_1\"\n",
            "_________________________________________________________________\n",
            " Layer (type)                Output Shape              Param #   \n",
            "=================================================================\n",
            " embedding (Embedding)       (None, 100, 16)           8000      \n",
            "                                                                 \n",
            " simple_rnn_1 (SimpleRNN)    (None, 8)                 200       \n",
            "                                                                 \n",
            " dense_1 (Dense)             (None, 1)                 9         \n",
            "                                                                 \n",
            "=================================================================\n",
            "Total params: 8,209\n",
            "Trainable params: 8,209\n",
            "Non-trainable params: 0\n",
            "_________________________________________________________________\n"
          ]
        }
      ]
    },
    {
      "cell_type": "code",
      "source": [
        "rmsprop = keras.optimizers.RMSprop(learning_rate=1e-4)\n",
        "model2.compile(optimizer=rmsprop, loss='binary_crossentropy', metrics=['accuracy'])\n",
        "checkpoint_cb = keras.callbacks.ModelCheckpoint('best-embedding-model.h5', save_best_only=True)\n",
        "early_stopping_cb = keras.callbacks.EarlyStopping(patience=3, restore_best_weights=True)\n",
        "history = model2.fit(train_seq, train_target, epochs=100, batch_size=64, validation_data=(val_seq, val_target), callbacks=[checkpoint_cb, early_stopping_cb])"
      ],
      "metadata": {
        "id": "1SNN_OXE4X1N",
        "colab": {
          "base_uri": "https://localhost:8080/"
        },
        "outputId": "64ffd202-5191-4447-f2a4-670ab68c44a8"
      },
      "execution_count": 26,
      "outputs": [
        {
          "output_type": "stream",
          "name": "stdout",
          "text": [
            "Epoch 1/100\n",
            "313/313 [==============================] - 9s 24ms/step - loss: 0.6936 - accuracy: 0.5124 - val_loss: 0.6941 - val_accuracy: 0.5068\n",
            "Epoch 2/100\n",
            "313/313 [==============================] - 8s 24ms/step - loss: 0.6902 - accuracy: 0.5328 - val_loss: 0.6920 - val_accuracy: 0.5180\n",
            "Epoch 3/100\n",
            "313/313 [==============================] - 7s 24ms/step - loss: 0.6873 - accuracy: 0.5473 - val_loss: 0.6904 - val_accuracy: 0.5300\n",
            "Epoch 4/100\n",
            "313/313 [==============================] - 7s 24ms/step - loss: 0.6837 - accuracy: 0.5613 - val_loss: 0.6884 - val_accuracy: 0.5394\n",
            "Epoch 5/100\n",
            "313/313 [==============================] - 8s 24ms/step - loss: 0.6719 - accuracy: 0.6094 - val_loss: 0.6662 - val_accuracy: 0.6310\n",
            "Epoch 6/100\n",
            "313/313 [==============================] - 7s 24ms/step - loss: 0.6465 - accuracy: 0.6733 - val_loss: 0.6399 - val_accuracy: 0.6754\n",
            "Epoch 7/100\n",
            "313/313 [==============================] - 7s 24ms/step - loss: 0.6152 - accuracy: 0.7100 - val_loss: 0.6114 - val_accuracy: 0.7110\n",
            "Epoch 8/100\n",
            "313/313 [==============================] - 7s 23ms/step - loss: 0.5866 - accuracy: 0.7393 - val_loss: 0.5862 - val_accuracy: 0.7294\n",
            "Epoch 9/100\n",
            "313/313 [==============================] - 7s 23ms/step - loss: 0.5620 - accuracy: 0.7575 - val_loss: 0.5664 - val_accuracy: 0.7350\n",
            "Epoch 10/100\n",
            "313/313 [==============================] - 7s 23ms/step - loss: 0.5409 - accuracy: 0.7703 - val_loss: 0.5485 - val_accuracy: 0.7490\n",
            "Epoch 11/100\n",
            "313/313 [==============================] - 7s 24ms/step - loss: 0.5217 - accuracy: 0.7785 - val_loss: 0.5354 - val_accuracy: 0.7626\n",
            "Epoch 12/100\n",
            "313/313 [==============================] - 7s 24ms/step - loss: 0.5052 - accuracy: 0.7872 - val_loss: 0.5225 - val_accuracy: 0.7598\n",
            "Epoch 13/100\n",
            "313/313 [==============================] - 7s 23ms/step - loss: 0.4896 - accuracy: 0.7922 - val_loss: 0.5041 - val_accuracy: 0.7740\n",
            "Epoch 14/100\n",
            "313/313 [==============================] - 10s 32ms/step - loss: 0.4762 - accuracy: 0.7986 - val_loss: 0.4918 - val_accuracy: 0.7768\n",
            "Epoch 15/100\n",
            "313/313 [==============================] - 7s 24ms/step - loss: 0.4644 - accuracy: 0.8040 - val_loss: 0.4825 - val_accuracy: 0.7822\n",
            "Epoch 16/100\n",
            "313/313 [==============================] - 8s 24ms/step - loss: 0.4547 - accuracy: 0.8056 - val_loss: 0.4868 - val_accuracy: 0.7784\n",
            "Epoch 17/100\n",
            "313/313 [==============================] - 7s 24ms/step - loss: 0.4464 - accuracy: 0.8084 - val_loss: 0.4720 - val_accuracy: 0.7818\n",
            "Epoch 18/100\n",
            "313/313 [==============================] - 7s 23ms/step - loss: 0.4391 - accuracy: 0.8117 - val_loss: 0.4691 - val_accuracy: 0.7840\n",
            "Epoch 19/100\n",
            "313/313 [==============================] - 7s 24ms/step - loss: 0.4345 - accuracy: 0.8113 - val_loss: 0.4656 - val_accuracy: 0.7848\n",
            "Epoch 20/100\n",
            "313/313 [==============================] - 7s 23ms/step - loss: 0.4292 - accuracy: 0.8141 - val_loss: 0.4643 - val_accuracy: 0.7856\n",
            "Epoch 21/100\n",
            "313/313 [==============================] - 7s 24ms/step - loss: 0.4252 - accuracy: 0.8169 - val_loss: 0.4631 - val_accuracy: 0.7852\n",
            "Epoch 22/100\n",
            "313/313 [==============================] - 7s 24ms/step - loss: 0.4213 - accuracy: 0.8192 - val_loss: 0.4639 - val_accuracy: 0.7842\n",
            "Epoch 23/100\n",
            "313/313 [==============================] - 7s 24ms/step - loss: 0.4180 - accuracy: 0.8195 - val_loss: 0.4621 - val_accuracy: 0.7860\n",
            "Epoch 24/100\n",
            "313/313 [==============================] - 7s 24ms/step - loss: 0.4157 - accuracy: 0.8202 - val_loss: 0.4646 - val_accuracy: 0.7830\n",
            "Epoch 25/100\n",
            "313/313 [==============================] - 8s 24ms/step - loss: 0.4127 - accuracy: 0.8214 - val_loss: 0.4576 - val_accuracy: 0.7860\n",
            "Epoch 26/100\n",
            "313/313 [==============================] - 7s 23ms/step - loss: 0.4097 - accuracy: 0.8244 - val_loss: 0.4589 - val_accuracy: 0.7870\n",
            "Epoch 27/100\n",
            "313/313 [==============================] - 7s 24ms/step - loss: 0.4076 - accuracy: 0.8252 - val_loss: 0.4582 - val_accuracy: 0.7868\n",
            "Epoch 28/100\n",
            "313/313 [==============================] - 7s 24ms/step - loss: 0.4059 - accuracy: 0.8246 - val_loss: 0.4610 - val_accuracy: 0.7862\n"
          ]
        }
      ]
    },
    {
      "cell_type": "code",
      "source": [
        "plt.plot(history.history['loss'])\n",
        "plt.plot(history.history['val_loss'])\n",
        "plt.xlabel('epoch')\n",
        "plt.ylabel('loss')\n",
        "plt.legend(['train', 'val'])\n",
        "plt.show()"
      ],
      "metadata": {
        "id": "kTIcTaah4-ve",
        "colab": {
          "base_uri": "https://localhost:8080/",
          "height": 279
        },
        "outputId": "96de595b-7781-4375-c5fe-c8c49056d08b"
      },
      "execution_count": 27,
      "outputs": [
        {
          "output_type": "display_data",
          "data": {
            "text/plain": [
              "<Figure size 432x288 with 1 Axes>"
            ],
            "image/png": "[encoded data removed]"
          },
          "metadata": {
            "needs_background": "light"
          }
        }
      ]
    },
    {
      "cell_type": "code",
      "source": [],
      "metadata": {
        "id": "KzHYOcsEXhWj"
      },
      "execution_count": 27,
      "outputs": []
    }
  ]
}